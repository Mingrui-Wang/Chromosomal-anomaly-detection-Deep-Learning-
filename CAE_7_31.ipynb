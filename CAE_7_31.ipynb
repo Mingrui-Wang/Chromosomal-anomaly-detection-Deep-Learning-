{
  "nbformat": 4,
  "nbformat_minor": 0,
  "metadata": {
    "colab": {
      "name": "CAE_7/15.ipynb",
      "provenance": [],
      "collapsed_sections": [],
      "authorship_tag": "ABX9TyMnAHUC5awDm7bKHo9E1mZB",
      "include_colab_link": true
    },
    "kernelspec": {
      "name": "python3",
      "display_name": "Python 3"
    },
    "accelerator": "GPU"
  },
  "cells": [
    {
      "cell_type": "markdown",
      "metadata": {
        "id": "view-in-github",
        "colab_type": "text"
      },
      "source": [
        "<a href=\"https://colab.research.google.com/github/Mingrui-Wang/Inverse-of-a-Matrix/blob/master/CAE_7_31.ipynb\" target=\"_parent\"><img src=\"https://colab.research.google.com/assets/colab-badge.svg\" alt=\"Open In Colab\"/></a>"
      ]
    },
    {
      "cell_type": "code",
      "metadata": {
        "id": "bLqY5CIs_jp0",
        "colab_type": "code",
        "colab": {
          "base_uri": "https://localhost:8080/",
          "height": 260
        },
        "outputId": "22a0ea6a-9ae6-4c64-91d9-4be194dd8038"
      },
      "source": [
        "import os\n",
        "from google.colab import drive\n",
        "drive.mount('/content/drive')\n",
        "\n",
        "path = \"/content/drive/My Drive/暑期科研/\"\n",
        "\n",
        "os.chdir(path)\n",
        "os.listdir(path)"
      ],
      "execution_count": 1,
      "outputs": [
        {
          "output_type": "stream",
          "text": [
            "Drive already mounted at /content/drive; to attempt to forcibly remount, call drive.mount(\"/content/drive\", force_remount=True).\n"
          ],
          "name": "stdout"
        },
        {
          "output_type": "execute_result",
          "data": {
            "text/plain": [
              "['chromosome_l_x_train.npy',\n",
              " 'chromosome_l_x_test.npy',\n",
              " 'chromosome_l_y_test.npy',\n",
              " 'chromosome_l_y_train.npy',\n",
              " 'chromosome_r_y_test.npy',\n",
              " 'chromosome_r_y_train.npy',\n",
              " 'chromosome_r_x_test.npy',\n",
              " 'chromosome_r_x_train.npy',\n",
              " 'chromosome_1.npy',\n",
              " 'chromosome_标签_1.npy',\n",
              " '9total_y.npy',\n",
              " '9total_x.npy',\n",
              " 'my_model.h5']"
            ]
          },
          "metadata": {
            "tags": []
          },
          "execution_count": 1
        }
      ]
    },
    {
      "cell_type": "code",
      "metadata": {
        "id": "1qksZ-OAeNdj",
        "colab_type": "code",
        "colab": {
          "base_uri": "https://localhost:8080/",
          "height": 87
        },
        "outputId": "98c0f3c4-bf55-48f3-ae0c-145e2a8cf12a"
      },
      "source": [
        "import glob\n",
        "\n",
        "import numpy as np\n",
        "import pandas as pd\n",
        "import matplotlib.pyplot as plt\n",
        "\n",
        "\n",
        "from keras.preprocessing import image\n",
        "from keras.models import Model\n",
        "from keras.optimizers import Adam\n",
        "from keras.callbacks import EarlyStopping\n",
        "from keras.layers import Input, Dense, Activation, BatchNormalization, Flatten, Conv2D\n",
        "from keras.layers import MaxPooling2D, Dropout, UpSampling2D\n",
        "import os\n",
        "\n",
        "x_train_savepath = './9total_x.npy'\n",
        "y_train_savepath = './9total_y.npy'\n",
        "\n",
        "x_test_savepath = './chromosome_1.npy'\n",
        "y_test_savepath = './chromosome_标签_1.npy'\n",
        "print('-------------Load Datasets-----------------')\n",
        "x_train_save = np.load(x_train_savepath)\n",
        "y_train = np.load(y_train_savepath)\n",
        "x_test_save = np.load(x_test_savepath)\n",
        "y_test = np.load(y_test_savepath)\n",
        "x_train = np.reshape(x_train_save, (len(x_train_save), 150, 150,1))\n",
        "x_test = np.reshape(x_test_save, (len(x_test_save), 150, 150,1))\n",
        "\n",
        "x_train = x_train.astype('float32')\n",
        "x_test = x_test.astype('float32')\n",
        "# x_train = x_train.reshape((len(x_train), np.prod(x_train.shape[1:])))\n",
        "# x_test = x_test.reshape((len(x_test), np.prod(x_test.shape[1:])))\n",
        "print(x_train.shape)\n",
        "print(x_test.shape)\n",
        "#\n",
        "\n",
        "class Autoencoder():\n",
        "    def __init__(self):\n",
        "\n",
        "        self.img_shape = (150,150,1)\n",
        "\n",
        "        optimizer = Adam(lr=0.001)\n",
        "\n",
        "        self.autoencoder_model = self.build_model()\n",
        "        self.autoencoder_model.compile(loss='binary_crossentropy', optimizer=optimizer)\n",
        "        self.autoencoder_model.summary()\n",
        "\n",
        "    def build_model(self):\n",
        "        input_layer = Input(shape=self.img_shape)\n",
        "\n",
        "        # encoder\n",
        "        h = Conv2D(64, (3, 3), activation='relu', padding='same')(input_layer)\n",
        "        h = MaxPooling2D((2, 2), padding='same')(h)\n",
        "        h = Conv2D(64, (3, 3), activation='relu', padding='same')(h)\n",
        "        h = MaxPooling2D((3, 3), padding='same')(h)\n",
        "\n",
        "        # decoder\n",
        "        h = Conv2D(64, (3, 3), activation='relu', padding='same')(h)\n",
        "        h = UpSampling2D((3, 3))(h)\n",
        "        h = Conv2D(64, (3, 3), activation='relu', padding='same')(h)\n",
        "        h = UpSampling2D((2, 2))(h)\n",
        "\n",
        "        output_layer = Conv2D(1, (3, 3), activation='sigmoid', padding='same')(h)\n",
        "\n",
        "        return Model(input_layer, output_layer)\n",
        "\n",
        "    def train_model(self, x_train, y_train, x_test, y_test, epochs, batch_size):\n",
        "        early_stopping = EarlyStopping(monitor='val_loss',\n",
        "                                       min_delta=0,\n",
        "                                       patience=5,\n",
        "                                       verbose=1,\n",
        "                                       mode='auto')\n",
        "        history = self.autoencoder_model.fit(x_train, x_train,\n",
        "                                             batch_size=batch_size,\n",
        "                                             epochs=epochs,\n",
        "                                             validation_data=(x_test, x_test),\n",
        "                                             callbacks=[early_stopping])\n",
        "        \n",
        "        file = self.autoencoder_model.save_weights('my_model.h5')\n",
        "\n",
        "        plt.plot(history.history['loss'])\n",
        "        plt.plot(history.history['val_loss'])\n",
        "        plt.title('Model loss')\n",
        "        plt.ylabel('Loss')\n",
        "        plt.xlabel('Epoch')\n",
        "        plt.legend(['Train', 'Test'], loc='upper left')\n",
        "        plt.show()\n",
        "\n",
        "    def eval_model(self, x_test):\n",
        "        preds = self.autoencoder_model.predict(x_test)\n",
        "        return preds\n"
      ],
      "execution_count": 2,
      "outputs": [
        {
          "output_type": "stream",
          "text": [
            "Using TensorFlow backend.\n"
          ],
          "name": "stderr"
        },
        {
          "output_type": "stream",
          "text": [
            "-------------Load Datasets-----------------\n",
            "(2352, 150, 150, 1)\n",
            "(1994, 150, 150, 1)\n"
          ],
          "name": "stdout"
        }
      ]
    },
    {
      "cell_type": "code",
      "metadata": {
        "id": "mU1g_3VXb5Tp",
        "colab_type": "code",
        "colab": {
          "base_uri": "https://localhost:8080/",
          "height": 1000
        },
        "outputId": "8b6d353a-3a5f-4e1a-ec3d-bd08d07efd1b"
      },
      "source": [
        "ae = Autoencoder()\n",
        "ae.train_model(x_train, x_train, x_test, x_test, epochs=20, batch_size=4)"
      ],
      "execution_count": 3,
      "outputs": [
        {
          "output_type": "stream",
          "text": [
            "Model: \"model_1\"\n",
            "_________________________________________________________________\n",
            "Layer (type)                 Output Shape              Param #   \n",
            "=================================================================\n",
            "input_1 (InputLayer)         (None, 150, 150, 1)       0         \n",
            "_________________________________________________________________\n",
            "conv2d_1 (Conv2D)            (None, 150, 150, 64)      640       \n",
            "_________________________________________________________________\n",
            "max_pooling2d_1 (MaxPooling2 (None, 75, 75, 64)        0         \n",
            "_________________________________________________________________\n",
            "conv2d_2 (Conv2D)            (None, 75, 75, 64)        36928     \n",
            "_________________________________________________________________\n",
            "max_pooling2d_2 (MaxPooling2 (None, 25, 25, 64)        0         \n",
            "_________________________________________________________________\n",
            "conv2d_3 (Conv2D)            (None, 25, 25, 64)        36928     \n",
            "_________________________________________________________________\n",
            "up_sampling2d_1 (UpSampling2 (None, 75, 75, 64)        0         \n",
            "_________________________________________________________________\n",
            "conv2d_4 (Conv2D)            (None, 75, 75, 64)        36928     \n",
            "_________________________________________________________________\n",
            "up_sampling2d_2 (UpSampling2 (None, 150, 150, 64)      0         \n",
            "_________________________________________________________________\n",
            "conv2d_5 (Conv2D)            (None, 150, 150, 1)       577       \n",
            "=================================================================\n",
            "Total params: 112,001\n",
            "Trainable params: 112,001\n",
            "Non-trainable params: 0\n",
            "_________________________________________________________________\n",
            "Train on 2352 samples, validate on 1994 samples\n",
            "Epoch 1/20\n",
            "2352/2352 [==============================] - 19s 8ms/step - loss: 0.1323 - val_loss: 0.0765\n",
            "Epoch 2/20\n",
            "2352/2352 [==============================] - 18s 8ms/step - loss: 0.1216 - val_loss: 0.0766\n",
            "Epoch 3/20\n",
            "2352/2352 [==============================] - 18s 8ms/step - loss: 0.1212 - val_loss: 0.0755\n",
            "Epoch 4/20\n",
            "2352/2352 [==============================] - 18s 8ms/step - loss: 0.1227 - val_loss: 0.0768\n",
            "Epoch 5/20\n",
            "2352/2352 [==============================] - 18s 7ms/step - loss: 0.1214 - val_loss: 0.0757\n",
            "Epoch 6/20\n",
            "2352/2352 [==============================] - 18s 8ms/step - loss: 0.1211 - val_loss: 0.0756\n",
            "Epoch 7/20\n",
            "2352/2352 [==============================] - 18s 8ms/step - loss: 0.1221 - val_loss: 0.0758\n",
            "Epoch 8/20\n",
            "2352/2352 [==============================] - 18s 8ms/step - loss: 0.1211 - val_loss: 0.0754\n",
            "Epoch 9/20\n",
            "2352/2352 [==============================] - 18s 8ms/step - loss: 0.1210 - val_loss: 0.0753\n",
            "Epoch 10/20\n",
            "2352/2352 [==============================] - 18s 8ms/step - loss: 0.1210 - val_loss: 0.0753\n",
            "Epoch 11/20\n",
            "2352/2352 [==============================] - 18s 8ms/step - loss: 0.1209 - val_loss: 0.0752\n",
            "Epoch 12/20\n",
            "2352/2352 [==============================] - 18s 8ms/step - loss: 0.1209 - val_loss: 0.0751\n",
            "Epoch 13/20\n",
            "2352/2352 [==============================] - 18s 8ms/step - loss: 0.1209 - val_loss: 0.0751\n",
            "Epoch 14/20\n",
            "2352/2352 [==============================] - 18s 8ms/step - loss: 0.1209 - val_loss: 0.0751\n",
            "Epoch 15/20\n",
            "2352/2352 [==============================] - 18s 8ms/step - loss: 0.1208 - val_loss: 0.0751\n",
            "Epoch 16/20\n",
            "2352/2352 [==============================] - 18s 8ms/step - loss: 0.1208 - val_loss: 0.0750\n",
            "Epoch 17/20\n",
            "2352/2352 [==============================] - 18s 8ms/step - loss: 0.1208 - val_loss: 0.0750\n",
            "Epoch 18/20\n",
            "2352/2352 [==============================] - 18s 8ms/step - loss: 0.1207 - val_loss: 0.0750\n",
            "Epoch 19/20\n",
            "2352/2352 [==============================] - 18s 8ms/step - loss: 0.1212 - val_loss: 0.0750\n",
            "Epoch 20/20\n",
            "2352/2352 [==============================] - 18s 8ms/step - loss: 0.1208 - val_loss: 0.0750\n"
          ],
          "name": "stdout"
        },
        {
          "output_type": "display_data",
          "data": {
            "image/png": "[encoded data removed]",
            "text/plain": [
              "<Figure size 432x288 with 1 Axes>"
            ]
          },
          "metadata": {
            "tags": [],
            "needs_background": "light"
          }
        }
      ]
    },
    {
      "cell_type": "code",
      "metadata": {
        "id": "LrZzURBEqHN9",
        "colab_type": "code",
        "colab": {
          "base_uri": "https://localhost:8080/",
          "height": 143
        },
        "outputId": "7be2345a-2b33-4ee1-d768-c2a662e04b39"
      },
      "source": [
        "decoded_test = ae.eval_model(x_test)\n",
        "\n",
        "import matplotlib.pyplot as plt\n",
        "%matplotlib inline\n",
        "shape = (150, 150)\n",
        "fig, axes = plt.subplots(2,10,\n",
        "                         figsize=(10, 2),\n",
        "                         subplot_kw={\n",
        "                             'xticks': [],\n",
        "                             'yticks': []\n",
        "                         },\n",
        "                         gridspec_kw=dict(hspace=0.1, wspace=0.1))\n",
        "for i in range(10):\n",
        "    axes[0][i].imshow(np.reshape(x_test[i], shape),cmap='gray')\n",
        "    axes[1][i].imshow(np.reshape(decoded_test[i], shape),cmap='gray')\n",
        "plt.show()"
      ],
      "execution_count": 4,
      "outputs": [
        {
          "output_type": "display_data",
          "data": {
            "image/png": "[encoded data removed]",
            "text/plain": [
              "<Figure size 720x144 with 20 Axes>"
            ]
          },
          "metadata": {
            "tags": []
          }
        }
      ]
    },
    {
      "cell_type": "code",
      "metadata": {
        "id": "dZrOmvZhkoMm",
        "colab_type": "code",
        "colab": {}
      },
      "source": [
        "### get the error term of all testing dataset images\n",
        "from sklearn.preprocessing import StandardScaler, MinMaxScaler\n",
        "scaler = MinMaxScaler()\n",
        "#scale it\n",
        "scaled_input_test = scaler.fit_transform(x_test.reshape(-1,22500))\n",
        "#scale it\n",
        "scaled_output_test = scaler.fit_transform(decoded_test.reshape(-1,22500))"
      ],
      "execution_count": 5,
      "outputs": []
    },
    {
      "cell_type": "code",
      "metadata": {
        "id": "LmKPUe1HoiCh",
        "colab_type": "code",
        "colab": {}
      },
      "source": [
        "### get the error term of all training set images\n",
        "\n",
        "# Firstly, we get the decoder image of training set.\n",
        "decoded_train = ae.eval_model(x_train)\n",
        "\n",
        "from sklearn.preprocessing import StandardScaler, MinMaxScaler\n",
        "scaler = MinMaxScaler()\n",
        "#scale it\n",
        "scaled_input_train = scaler.fit_transform(x_train.reshape(-1,22500))\n",
        "#scale it\n",
        "scaled_output_train = scaler.fit_transform(decoded_train.reshape(-1,22500))"
      ],
      "execution_count": 6,
      "outputs": []
    },
    {
      "cell_type": "code",
      "metadata": {
        "id": "88j23dcopDlz",
        "colab_type": "code",
        "colab": {}
      },
      "source": [
        "import pandas as pd\n",
        "num = len(x_train)+len(x_test)\n",
        "sequences = range(1,num+1)"
      ],
      "execution_count": 7,
      "outputs": []
    },
    {
      "cell_type": "code",
      "metadata": {
        "id": "L9Vizo8M_52A",
        "colab_type": "code",
        "colab": {}
      },
      "source": [
        "from keras import losses\n",
        "x = losses.mean_squared_error(scaled_input_train,scaled_output_train)\n",
        "y = losses.mse(scaled_input_test,scaled_output_test)"
      ],
      "execution_count": 8,
      "outputs": []
    },
    {
      "cell_type": "code",
      "metadata": {
        "id": "T16oHcr0qje1",
        "colab_type": "code",
        "colab": {
          "base_uri": "https://localhost:8080/",
          "height": 415
        },
        "outputId": "e011b5fc-f09d-4a10-f45e-b447203b9b77"
      },
      "source": [
        "seqs_ds = pd.DataFrame(sequences)\n",
        "mse = np.append(x,y)\n",
        "seqs_ds['binary_crossentropy'] = mse\n",
        "seqs_ds"
      ],
      "execution_count": 9,
      "outputs": [
        {
          "output_type": "execute_result",
          "data": {
            "text/html": [
              "<div>\n",
              "<style scoped>\n",
              "    .dataframe tbody tr th:only-of-type {\n",
              "        vertical-align: middle;\n",
              "    }\n",
              "\n",
              "    .dataframe tbody tr th {\n",
              "        vertical-align: top;\n",
              "    }\n",
              "\n",
              "    .dataframe thead th {\n",
              "        text-align: right;\n",
              "    }\n",
              "</style>\n",
              "<table border=\"1\" class=\"dataframe\">\n",
              "  <thead>\n",
              "    <tr style=\"text-align: right;\">\n",
              "      <th></th>\n",
              "      <th>0</th>\n",
              "      <th>binary_crossentropy</th>\n",
              "    </tr>\n",
              "  </thead>\n",
              "  <tbody>\n",
              "    <tr>\n",
              "      <th>0</th>\n",
              "      <td>1</td>\n",
              "      <td>0.169693</td>\n",
              "    </tr>\n",
              "    <tr>\n",
              "      <th>1</th>\n",
              "      <td>2</td>\n",
              "      <td>0.169719</td>\n",
              "    </tr>\n",
              "    <tr>\n",
              "      <th>2</th>\n",
              "      <td>3</td>\n",
              "      <td>0.169716</td>\n",
              "    </tr>\n",
              "    <tr>\n",
              "      <th>3</th>\n",
              "      <td>4</td>\n",
              "      <td>0.169666</td>\n",
              "    </tr>\n",
              "    <tr>\n",
              "      <th>4</th>\n",
              "      <td>5</td>\n",
              "      <td>0.169013</td>\n",
              "    </tr>\n",
              "    <tr>\n",
              "      <th>...</th>\n",
              "      <td>...</td>\n",
              "      <td>...</td>\n",
              "    </tr>\n",
              "    <tr>\n",
              "      <th>4341</th>\n",
              "      <td>4342</td>\n",
              "      <td>0.200099</td>\n",
              "    </tr>\n",
              "    <tr>\n",
              "      <th>4342</th>\n",
              "      <td>4343</td>\n",
              "      <td>0.197345</td>\n",
              "    </tr>\n",
              "    <tr>\n",
              "      <th>4343</th>\n",
              "      <td>4344</td>\n",
              "      <td>0.199977</td>\n",
              "    </tr>\n",
              "    <tr>\n",
              "      <th>4344</th>\n",
              "      <td>4345</td>\n",
              "      <td>0.201036</td>\n",
              "    </tr>\n",
              "    <tr>\n",
              "      <th>4345</th>\n",
              "      <td>4346</td>\n",
              "      <td>0.193750</td>\n",
              "    </tr>\n",
              "  </tbody>\n",
              "</table>\n",
              "<p>4346 rows × 2 columns</p>\n",
              "</div>"
            ],
            "text/plain": [
              "         0  binary_crossentropy\n",
              "0        1             0.169693\n",
              "1        2             0.169719\n",
              "2        3             0.169716\n",
              "3        4             0.169666\n",
              "4        5             0.169013\n",
              "...    ...                  ...\n",
              "4341  4342             0.200099\n",
              "4342  4343             0.197345\n",
              "4343  4344             0.199977\n",
              "4344  4345             0.201036\n",
              "4345  4346             0.193750\n",
              "\n",
              "[4346 rows x 2 columns]"
            ]
          },
          "metadata": {
            "tags": []
          },
          "execution_count": 9
        }
      ]
    },
    {
      "cell_type": "code",
      "metadata": {
        "id": "_KCp2I90uyIP",
        "colab_type": "code",
        "colab": {
          "base_uri": "https://localhost:8080/",
          "height": 35
        },
        "outputId": "27a95320-9568-489f-9050-8dd2b6bb8b6d"
      },
      "source": [
        "threshold = len(x_train)/(len(x_train)+len(x_test))\n",
        "binary_crossentropy_threshold = np.quantile(seqs_ds['binary_crossentropy'], threshold)\n",
        "print(f'binary_crossentropy 0.84 threshold:{binary_crossentropy_threshold}')"
      ],
      "execution_count": 10,
      "outputs": [
        {
          "output_type": "stream",
          "text": [
            "binary_crossentropy 0.84 threshold:0.17266367892899703\n"
          ],
          "name": "stdout"
        }
      ]
    },
    {
      "cell_type": "code",
      "metadata": {
        "id": "wG1hzULCu5-B",
        "colab_type": "code",
        "colab": {}
      },
      "source": [
        "seqs_ds['binary_crossentropy_Outlier'] = 0\n",
        "seqs_ds.loc[seqs_ds['binary_crossentropy'] > binary_crossentropy_threshold, 'binary_crossentropy_Outlier'] = 1"
      ],
      "execution_count": 11,
      "outputs": []
    },
    {
      "cell_type": "code",
      "metadata": {
        "id": "2XF9Iznqu9D7",
        "colab_type": "code",
        "colab": {
          "base_uri": "https://localhost:8080/",
          "height": 433
        },
        "outputId": "e18682f1-49e1-475b-875c-940065f35f9a"
      },
      "source": [
        "print(f\"Num of binary_crossentropy outlier:{seqs_ds['binary_crossentropy_Outlier'].sum()}\")\n",
        "\n",
        "seqs_ds[seqs_ds['binary_crossentropy_Outlier']==1]"
      ],
      "execution_count": 12,
      "outputs": [
        {
          "output_type": "stream",
          "text": [
            "Num of binary_crossentropy outlier:1994\n"
          ],
          "name": "stdout"
        },
        {
          "output_type": "execute_result",
          "data": {
            "text/html": [
              "<div>\n",
              "<style scoped>\n",
              "    .dataframe tbody tr th:only-of-type {\n",
              "        vertical-align: middle;\n",
              "    }\n",
              "\n",
              "    .dataframe tbody tr th {\n",
              "        vertical-align: top;\n",
              "    }\n",
              "\n",
              "    .dataframe thead th {\n",
              "        text-align: right;\n",
              "    }\n",
              "</style>\n",
              "<table border=\"1\" class=\"dataframe\">\n",
              "  <thead>\n",
              "    <tr style=\"text-align: right;\">\n",
              "      <th></th>\n",
              "      <th>0</th>\n",
              "      <th>binary_crossentropy</th>\n",
              "      <th>binary_crossentropy_Outlier</th>\n",
              "    </tr>\n",
              "  </thead>\n",
              "  <tbody>\n",
              "    <tr>\n",
              "      <th>2352</th>\n",
              "      <td>2353</td>\n",
              "      <td>0.199667</td>\n",
              "      <td>1</td>\n",
              "    </tr>\n",
              "    <tr>\n",
              "      <th>2353</th>\n",
              "      <td>2354</td>\n",
              "      <td>0.199326</td>\n",
              "      <td>1</td>\n",
              "    </tr>\n",
              "    <tr>\n",
              "      <th>2354</th>\n",
              "      <td>2355</td>\n",
              "      <td>0.200231</td>\n",
              "      <td>1</td>\n",
              "    </tr>\n",
              "    <tr>\n",
              "      <th>2355</th>\n",
              "      <td>2356</td>\n",
              "      <td>0.200713</td>\n",
              "      <td>1</td>\n",
              "    </tr>\n",
              "    <tr>\n",
              "      <th>2356</th>\n",
              "      <td>2357</td>\n",
              "      <td>0.202539</td>\n",
              "      <td>1</td>\n",
              "    </tr>\n",
              "    <tr>\n",
              "      <th>...</th>\n",
              "      <td>...</td>\n",
              "      <td>...</td>\n",
              "      <td>...</td>\n",
              "    </tr>\n",
              "    <tr>\n",
              "      <th>4341</th>\n",
              "      <td>4342</td>\n",
              "      <td>0.200099</td>\n",
              "      <td>1</td>\n",
              "    </tr>\n",
              "    <tr>\n",
              "      <th>4342</th>\n",
              "      <td>4343</td>\n",
              "      <td>0.197345</td>\n",
              "      <td>1</td>\n",
              "    </tr>\n",
              "    <tr>\n",
              "      <th>4343</th>\n",
              "      <td>4344</td>\n",
              "      <td>0.199977</td>\n",
              "      <td>1</td>\n",
              "    </tr>\n",
              "    <tr>\n",
              "      <th>4344</th>\n",
              "      <td>4345</td>\n",
              "      <td>0.201036</td>\n",
              "      <td>1</td>\n",
              "    </tr>\n",
              "    <tr>\n",
              "      <th>4345</th>\n",
              "      <td>4346</td>\n",
              "      <td>0.193750</td>\n",
              "      <td>1</td>\n",
              "    </tr>\n",
              "  </tbody>\n",
              "</table>\n",
              "<p>1994 rows × 3 columns</p>\n",
              "</div>"
            ],
            "text/plain": [
              "         0  binary_crossentropy  binary_crossentropy_Outlier\n",
              "2352  2353             0.199667                            1\n",
              "2353  2354             0.199326                            1\n",
              "2354  2355             0.200231                            1\n",
              "2355  2356             0.200713                            1\n",
              "2356  2357             0.202539                            1\n",
              "...    ...                  ...                          ...\n",
              "4341  4342             0.200099                            1\n",
              "4342  4343             0.197345                            1\n",
              "4343  4344             0.199977                            1\n",
              "4344  4345             0.201036                            1\n",
              "4345  4346             0.193750                            1\n",
              "\n",
              "[1994 rows x 3 columns]"
            ]
          },
          "metadata": {
            "tags": []
          },
          "execution_count": 12
        }
      ]
    },
    {
      "cell_type": "code",
      "metadata": {
        "id": "wbjcO842EOws",
        "colab_type": "code",
        "colab": {
          "base_uri": "https://localhost:8080/",
          "height": 35
        },
        "outputId": "51aadce7-266a-467b-e180-68265de6b7fe"
      },
      "source": [
        "really_outlier = seqs_ds[len(x_train):(len(x_train)+len(x_test)+1)]\n",
        "correct_outlier_num = len(really_outlier[really_outlier['binary_crossentropy_Outlier']==1])\n",
        "accuacy = correct_outlier_num/len(x_test)\n",
        "print(accuacy)"
      ],
      "execution_count": 13,
      "outputs": [
        {
          "output_type": "stream",
          "text": [
            "1.0\n"
          ],
          "name": "stdout"
        }
      ]
    }
  ]
}