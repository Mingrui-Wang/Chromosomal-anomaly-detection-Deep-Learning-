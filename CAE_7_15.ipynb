{
  "nbformat": 4,
  "nbformat_minor": 0,
  "metadata": {
    "colab": {
      "name": "CAE_7/15.ipynb",
      "provenance": [],
      "collapsed_sections": [],
      "authorship_tag": "ABX9TyN/ywFC0iq5mhyjO2CFNp8l",
      "include_colab_link": true
    },
    "kernelspec": {
      "name": "python3",
      "display_name": "Python 3"
    },
    "accelerator": "GPU"
  },
  "cells": [
    {
      "cell_type": "markdown",
      "metadata": {
        "id": "view-in-github",
        "colab_type": "text"
      },
      "source": [
        "<a href=\"https://colab.research.google.com/github/Mingrui-Wang/Inverse-of-a-Matrix/blob/master/CAE_7_15.ipynb\" target=\"_parent\"><img src=\"https://colab.research.google.com/assets/colab-badge.svg\" alt=\"Open In Colab\"/></a>"
      ]
    },
    {
      "cell_type": "code",
      "metadata": {
        "id": "bLqY5CIs_jp0",
        "colab_type": "code",
        "colab": {
          "base_uri": "https://localhost:8080/",
          "height": 186
        },
        "outputId": "2d232d02-5233-4884-f3c9-6e89a856ee14"
      },
      "source": [
        "import os\n",
        "from google.colab import drive\n",
        "drive.mount('/content/drive')\n",
        "\n",
        "path = \"/content/drive/My Drive/暑期科研/\"\n",
        "\n",
        "os.chdir(path)\n",
        "os.listdir(path)"
      ],
      "execution_count": 1,
      "outputs": [
        {
          "output_type": "stream",
          "text": [
            "Drive already mounted at /content/drive; to attempt to forcibly remount, call drive.mount(\"/content/drive\", force_remount=True).\n"
          ],
          "name": "stdout"
        },
        {
          "output_type": "execute_result",
          "data": {
            "text/plain": [
              "['chromosome_l_x_train.npy',\n",
              " 'chromosome_l_x_test.npy',\n",
              " 'chromosome_l_y_test.npy',\n",
              " 'chromosome_l_y_train.npy',\n",
              " 'chromosome_r_y_test.npy',\n",
              " 'chromosome_r_y_train.npy',\n",
              " 'chromosome_r_x_test.npy',\n",
              " 'chromosome_r_x_train.npy',\n",
              " 'my_model.h5']"
            ]
          },
          "metadata": {
            "tags": []
          },
          "execution_count": 1
        }
      ]
    },
    {
      "cell_type": "code",
      "metadata": {
        "id": "1qksZ-OAeNdj",
        "colab_type": "code",
        "colab": {
          "base_uri": "https://localhost:8080/",
          "height": 85
        },
        "outputId": "08d82f1d-912f-4c15-fa16-4ffae989926b"
      },
      "source": [
        "import glob\n",
        "\n",
        "import numpy as np\n",
        "import pandas as pd\n",
        "import matplotlib.pyplot as plt\n",
        "\n",
        "\n",
        "from keras.preprocessing import image\n",
        "from keras.models import Model\n",
        "from keras.optimizers import Adam\n",
        "from keras.callbacks import EarlyStopping\n",
        "from keras.layers import Input, Dense, Activation, BatchNormalization, Flatten, Conv2D\n",
        "from keras.layers import MaxPooling2D, Dropout, UpSampling2D\n",
        "import os\n",
        "\n",
        "x_train_savepath = './chromosome_r_x_train.npy'\n",
        "y_train_savepath = './chromosome_r_y_train.npy'\n",
        "\n",
        "x_test_savepath = './chromosome_r_x_test.npy'\n",
        "y_test_savepath = './chromosome_r_y_test.npy'\n",
        "print('-------------Load Datasets-----------------')\n",
        "x_train_save = np.load(x_train_savepath)\n",
        "y_train = np.load(y_train_savepath)\n",
        "x_test_save = np.load(x_test_savepath)\n",
        "y_test = np.load(y_test_savepath)\n",
        "x_train = np.reshape(x_train_save, (len(x_train_save), 150, 150,1))\n",
        "x_test = np.reshape(x_test_save, (len(x_test_save), 150, 150,1))\n",
        "\n",
        "x_train = x_train.astype('float32')\n",
        "x_test = x_test.astype('float32')\n",
        "# x_train = x_train.reshape((len(x_train), np.prod(x_train.shape[1:])))\n",
        "# x_test = x_test.reshape((len(x_test), np.prod(x_test.shape[1:])))\n",
        "print(x_train.shape)\n",
        "print(x_test.shape)\n",
        "#\n",
        "\n",
        "class Autoencoder():\n",
        "    def __init__(self):\n",
        "\n",
        "        self.img_shape = (150,150,1)\n",
        "\n",
        "        optimizer = Adam(lr=0.001)\n",
        "\n",
        "        self.autoencoder_model = self.build_model()\n",
        "        self.autoencoder_model.compile(loss='binary_crossentropy', optimizer=optimizer)\n",
        "        self.autoencoder_model.summary()\n",
        "\n",
        "    def build_model(self):\n",
        "        input_layer = Input(shape=self.img_shape)\n",
        "\n",
        "        # encoder\n",
        "        h = Conv2D(64, (3, 3), activation='relu', padding='same')(input_layer)\n",
        "        h = MaxPooling2D((2, 2), padding='same')(h)\n",
        "        h = Conv2D(64, (3, 3), activation='relu', padding='same')(h)\n",
        "        h = MaxPooling2D((3, 3), padding='same')(h)\n",
        "\n",
        "        # decoder\n",
        "        h = Conv2D(64, (3, 3), activation='relu', padding='same')(h)\n",
        "        h = UpSampling2D((3, 3))(h)\n",
        "        h = Conv2D(64, (3, 3), activation='relu', padding='same')(h)\n",
        "        h = UpSampling2D((2, 2))(h)\n",
        "\n",
        "        output_layer = Conv2D(1, (3, 3), activation='sigmoid', padding='same')(h)\n",
        "\n",
        "        return Model(input_layer, output_layer)\n",
        "\n",
        "    def train_model(self, x_train, y_train, x_test, y_test, epochs, batch_size):\n",
        "        early_stopping = EarlyStopping(monitor='val_loss',\n",
        "                                       min_delta=0,\n",
        "                                       patience=5,\n",
        "                                       verbose=1,\n",
        "                                       mode='auto')\n",
        "        history = self.autoencoder_model.fit(x_train, x_train,\n",
        "                                             batch_size=batch_size,\n",
        "                                             epochs=epochs,\n",
        "                                             validation_data=(x_test, x_test),\n",
        "                                             callbacks=[early_stopping])\n",
        "        \n",
        "        file = self.autoencoder_model.save_weights('my_model.h5')\n",
        "\n",
        "        plt.plot(history.history['loss'])\n",
        "        plt.plot(history.history['val_loss'])\n",
        "        plt.title('Model loss')\n",
        "        plt.ylabel('Loss')\n",
        "        plt.xlabel('Epoch')\n",
        "        plt.legend(['Train', 'Test'], loc='upper left')\n",
        "        plt.show()\n",
        "\n",
        "    def eval_model(self, x_test):\n",
        "        preds = self.autoencoder_model.predict(x_test)\n",
        "        return preds\n"
      ],
      "execution_count": 2,
      "outputs": [
        {
          "output_type": "stream",
          "text": [
            "Using TensorFlow backend.\n"
          ],
          "name": "stderr"
        },
        {
          "output_type": "stream",
          "text": [
            "-------------Load Datasets-----------------\n",
            "(988, 150, 150, 1)\n",
            "(188, 150, 150, 1)\n"
          ],
          "name": "stdout"
        }
      ]
    },
    {
      "cell_type": "code",
      "metadata": {
        "id": "mU1g_3VXb5Tp",
        "colab_type": "code",
        "colab": {
          "base_uri": "https://localhost:8080/",
          "height": 1415
        },
        "outputId": "1086d01b-11f6-4be5-f348-8a1b36667e36"
      },
      "source": [
        "ae = Autoencoder()\n",
        "ae.train_model(x_train, x_train, x_test, x_test, epochs=30, batch_size=4)"
      ],
      "execution_count": 3,
      "outputs": [
        {
          "output_type": "stream",
          "text": [
            "Model: \"model_1\"\n",
            "_________________________________________________________________\n",
            "Layer (type)                 Output Shape              Param #   \n",
            "=================================================================\n",
            "input_1 (InputLayer)         (None, 150, 150, 1)       0         \n",
            "_________________________________________________________________\n",
            "conv2d_1 (Conv2D)            (None, 150, 150, 64)      640       \n",
            "_________________________________________________________________\n",
            "max_pooling2d_1 (MaxPooling2 (None, 75, 75, 64)        0         \n",
            "_________________________________________________________________\n",
            "conv2d_2 (Conv2D)            (None, 75, 75, 64)        36928     \n",
            "_________________________________________________________________\n",
            "max_pooling2d_2 (MaxPooling2 (None, 25, 25, 64)        0         \n",
            "_________________________________________________________________\n",
            "conv2d_3 (Conv2D)            (None, 25, 25, 64)        36928     \n",
            "_________________________________________________________________\n",
            "up_sampling2d_1 (UpSampling2 (None, 75, 75, 64)        0         \n",
            "_________________________________________________________________\n",
            "conv2d_4 (Conv2D)            (None, 75, 75, 64)        36928     \n",
            "_________________________________________________________________\n",
            "up_sampling2d_2 (UpSampling2 (None, 150, 150, 64)      0         \n",
            "_________________________________________________________________\n",
            "conv2d_5 (Conv2D)            (None, 150, 150, 1)       577       \n",
            "=================================================================\n",
            "Total params: 112,001\n",
            "Trainable params: 112,001\n",
            "Non-trainable params: 0\n",
            "_________________________________________________________________\n",
            "Train on 988 samples, validate on 188 samples\n",
            "Epoch 1/30\n",
            "988/988 [==============================] - 8s 8ms/step - loss: 0.1350 - val_loss: 0.2099\n",
            "Epoch 2/30\n",
            "988/988 [==============================] - 6s 6ms/step - loss: 0.1091 - val_loss: 0.2113\n",
            "Epoch 3/30\n",
            "988/988 [==============================] - 6s 6ms/step - loss: 0.1086 - val_loss: 0.2087\n",
            "Epoch 4/30\n",
            "988/988 [==============================] - 6s 6ms/step - loss: 0.1085 - val_loss: 0.2069\n",
            "Epoch 5/30\n",
            "988/988 [==============================] - 6s 6ms/step - loss: 0.1083 - val_loss: 0.2069\n",
            "Epoch 6/30\n",
            "988/988 [==============================] - 6s 6ms/step - loss: 0.1083 - val_loss: 0.2036\n",
            "Epoch 7/30\n",
            "988/988 [==============================] - 6s 6ms/step - loss: 0.1082 - val_loss: 0.2030\n",
            "Epoch 8/30\n",
            "988/988 [==============================] - 6s 6ms/step - loss: 0.1082 - val_loss: 0.2017\n",
            "Epoch 9/30\n",
            "988/988 [==============================] - 6s 6ms/step - loss: 0.1082 - val_loss: 0.2018\n",
            "Epoch 10/30\n",
            "988/988 [==============================] - 6s 6ms/step - loss: 0.1081 - val_loss: 0.2007\n",
            "Epoch 11/30\n",
            "988/988 [==============================] - 6s 6ms/step - loss: 0.1081 - val_loss: 0.2011\n",
            "Epoch 12/30\n",
            "988/988 [==============================] - 6s 6ms/step - loss: 0.1081 - val_loss: 0.2006\n",
            "Epoch 13/30\n",
            "988/988 [==============================] - 6s 6ms/step - loss: 0.1081 - val_loss: 0.1999\n",
            "Epoch 14/30\n",
            "988/988 [==============================] - 6s 6ms/step - loss: 0.1080 - val_loss: 0.1999\n",
            "Epoch 15/30\n",
            "988/988 [==============================] - 6s 6ms/step - loss: 0.1080 - val_loss: 0.2001\n",
            "Epoch 16/30\n",
            "988/988 [==============================] - 6s 6ms/step - loss: 0.1142 - val_loss: 0.2008\n",
            "Epoch 17/30\n",
            "988/988 [==============================] - 6s 6ms/step - loss: 0.1084 - val_loss: 0.2015\n",
            "Epoch 18/30\n",
            "988/988 [==============================] - 6s 6ms/step - loss: 0.1082 - val_loss: 0.2017\n",
            "Epoch 00018: early stopping\n"
          ],
          "name": "stdout"
        },
        {
          "output_type": "display_data",
          "data": {
            "image/png": "[encoded data removed]",
            "text/plain": [
              "<Figure size 432x288 with 1 Axes>"
            ]
          },
          "metadata": {
            "tags": [],
            "needs_background": "light"
          }
        }
      ]
    },
    {
      "cell_type": "code",
      "metadata": {
        "id": "LrZzURBEqHN9",
        "colab_type": "code",
        "colab": {
          "base_uri": "https://localhost:8080/",
          "height": 143
        },
        "outputId": "6b856c23-7469-48de-eb18-b6c2a78d5308"
      },
      "source": [
        "decoded_test = ae.eval_model(x_test)\n",
        "\n",
        "import matplotlib.pyplot as plt\n",
        "%matplotlib inline\n",
        "shape = (150, 150)\n",
        "fig, axes = plt.subplots(2,10,\n",
        "                         figsize=(10, 2),\n",
        "                         subplot_kw={\n",
        "                             'xticks': [],\n",
        "                             'yticks': []\n",
        "                         },\n",
        "                         gridspec_kw=dict(hspace=0.1, wspace=0.1))\n",
        "for i in range(10):\n",
        "    axes[0][i].imshow(np.reshape(x_test[i], shape),cmap='gray')\n",
        "    axes[1][i].imshow(np.reshape(decoded_test[i], shape),cmap='gray')\n",
        "plt.show()"
      ],
      "execution_count": 4,
      "outputs": [
        {
          "output_type": "display_data",
          "data": {
            "image/png": "[encoded data removed]",
            "text/plain": [
              "<Figure size 720x144 with 20 Axes>"
            ]
          },
          "metadata": {
            "tags": []
          }
        }
      ]
    },
    {
      "cell_type": "code",
      "metadata": {
        "id": "dZrOmvZhkoMm",
        "colab_type": "code",
        "colab": {}
      },
      "source": [
        "### get the error term of all testing dataset images\n",
        "from sklearn.preprocessing import StandardScaler, MinMaxScaler\n",
        "scaler = MinMaxScaler()\n",
        "#scale it\n",
        "scaled_input_test = scaler.fit_transform(x_test.reshape(-1,22500))\n",
        "#scale it\n",
        "scaled_output_test = scaler.fit_transform(decoded_test.reshape(-1,22500))"
      ],
      "execution_count": 5,
      "outputs": []
    },
    {
      "cell_type": "code",
      "metadata": {
        "id": "LmKPUe1HoiCh",
        "colab_type": "code",
        "colab": {}
      },
      "source": [
        "### get the error term of all training set images\n",
        "\n",
        "# Firstly, we get the decoder image of training set.\n",
        "decoded_train = ae.eval_model(x_train)\n",
        "\n",
        "from sklearn.preprocessing import StandardScaler, MinMaxScaler\n",
        "scaler = MinMaxScaler()\n",
        "#scale it\n",
        "scaled_input_train = scaler.fit_transform(x_train.reshape(-1,22500))\n",
        "#scale it\n",
        "scaled_output_train = scaler.fit_transform(decoded_train.reshape(-1,22500))"
      ],
      "execution_count": 6,
      "outputs": []
    },
    {
      "cell_type": "code",
      "metadata": {
        "id": "88j23dcopDlz",
        "colab_type": "code",
        "colab": {}
      },
      "source": [
        "import pandas as pd\n",
        "sequences = range(1,1177)"
      ],
      "execution_count": 7,
      "outputs": []
    },
    {
      "cell_type": "code",
      "metadata": {
        "id": "L9Vizo8M_52A",
        "colab_type": "code",
        "colab": {}
      },
      "source": [
        "from keras import losses\n",
        "x = losses.binary_crossentropy(scaled_input_train,scaled_output_train)\n",
        "y = losses.binary_crossentropy(scaled_input_test,scaled_output_test)"
      ],
      "execution_count": 8,
      "outputs": []
    },
    {
      "cell_type": "code",
      "metadata": {
        "id": "T16oHcr0qje1",
        "colab_type": "code",
        "colab": {
          "base_uri": "https://localhost:8080/",
          "height": 410
        },
        "outputId": "3483e30f-c970-48e0-993b-939ca15bb2f1"
      },
      "source": [
        "seqs_ds = pd.DataFrame(sequences)\n",
        "mse = np.append(x,y)\n",
        "seqs_ds['binary_crossentropy'] = mse\n",
        "seqs_ds"
      ],
      "execution_count": 9,
      "outputs": [
        {
          "output_type": "execute_result",
          "data": {
            "text/html": [
              "<div>\n",
              "<style scoped>\n",
              "    .dataframe tbody tr th:only-of-type {\n",
              "        vertical-align: middle;\n",
              "    }\n",
              "\n",
              "    .dataframe tbody tr th {\n",
              "        vertical-align: top;\n",
              "    }\n",
              "\n",
              "    .dataframe thead th {\n",
              "        text-align: right;\n",
              "    }\n",
              "</style>\n",
              "<table border=\"1\" class=\"dataframe\">\n",
              "  <thead>\n",
              "    <tr style=\"text-align: right;\">\n",
              "      <th></th>\n",
              "      <th>0</th>\n",
              "      <th>binary_crossentropy</th>\n",
              "    </tr>\n",
              "  </thead>\n",
              "  <tbody>\n",
              "    <tr>\n",
              "      <th>0</th>\n",
              "      <td>1</td>\n",
              "      <td>0.824593</td>\n",
              "    </tr>\n",
              "    <tr>\n",
              "      <th>1</th>\n",
              "      <td>2</td>\n",
              "      <td>0.790408</td>\n",
              "    </tr>\n",
              "    <tr>\n",
              "      <th>2</th>\n",
              "      <td>3</td>\n",
              "      <td>0.836440</td>\n",
              "    </tr>\n",
              "    <tr>\n",
              "      <th>3</th>\n",
              "      <td>4</td>\n",
              "      <td>0.802656</td>\n",
              "    </tr>\n",
              "    <tr>\n",
              "      <th>4</th>\n",
              "      <td>5</td>\n",
              "      <td>0.865731</td>\n",
              "    </tr>\n",
              "    <tr>\n",
              "      <th>...</th>\n",
              "      <td>...</td>\n",
              "      <td>...</td>\n",
              "    </tr>\n",
              "    <tr>\n",
              "      <th>1171</th>\n",
              "      <td>1172</td>\n",
              "      <td>1.909080</td>\n",
              "    </tr>\n",
              "    <tr>\n",
              "      <th>1172</th>\n",
              "      <td>1173</td>\n",
              "      <td>2.043504</td>\n",
              "    </tr>\n",
              "    <tr>\n",
              "      <th>1173</th>\n",
              "      <td>1174</td>\n",
              "      <td>2.125773</td>\n",
              "    </tr>\n",
              "    <tr>\n",
              "      <th>1174</th>\n",
              "      <td>1175</td>\n",
              "      <td>1.941264</td>\n",
              "    </tr>\n",
              "    <tr>\n",
              "      <th>1175</th>\n",
              "      <td>1176</td>\n",
              "      <td>2.056441</td>\n",
              "    </tr>\n",
              "  </tbody>\n",
              "</table>\n",
              "<p>1176 rows × 2 columns</p>\n",
              "</div>"
            ],
            "text/plain": [
              "         0  binary_crossentropy\n",
              "0        1             0.824593\n",
              "1        2             0.790408\n",
              "2        3             0.836440\n",
              "3        4             0.802656\n",
              "4        5             0.865731\n",
              "...    ...                  ...\n",
              "1171  1172             1.909080\n",
              "1172  1173             2.043504\n",
              "1173  1174             2.125773\n",
              "1174  1175             1.941264\n",
              "1175  1176             2.056441\n",
              "\n",
              "[1176 rows x 2 columns]"
            ]
          },
          "metadata": {
            "tags": []
          },
          "execution_count": 9
        }
      ]
    },
    {
      "cell_type": "code",
      "metadata": {
        "id": "_KCp2I90uyIP",
        "colab_type": "code",
        "colab": {
          "base_uri": "https://localhost:8080/",
          "height": 34
        },
        "outputId": "077628e9-19a0-46f6-c7d5-cc7f6eaa579b"
      },
      "source": [
        "binary_crossentropy_threshold = np.quantile(seqs_ds['binary_crossentropy'], 0.84)\n",
        "print(f'binary_crossentropy 0.84 threshhold:{binary_crossentropy_threshold}')"
      ],
      "execution_count": 10,
      "outputs": [
        {
          "output_type": "stream",
          "text": [
            "binary_crossentropy 0.84 threshhold:1.0104540586471558\n"
          ],
          "name": "stdout"
        }
      ]
    },
    {
      "cell_type": "code",
      "metadata": {
        "id": "wG1hzULCu5-B",
        "colab_type": "code",
        "colab": {}
      },
      "source": [
        "seqs_ds['binary_crossentropy_Outlier'] = 0\n",
        "seqs_ds.loc[seqs_ds['binary_crossentropy'] > binary_crossentropy_threshold, 'binary_crossentropy_Outlier'] = 1"
      ],
      "execution_count": 11,
      "outputs": []
    },
    {
      "cell_type": "code",
      "metadata": {
        "id": "2XF9Iznqu9D7",
        "colab_type": "code",
        "colab": {
          "base_uri": "https://localhost:8080/",
          "height": 427
        },
        "outputId": "c95d411c-5e64-4eed-9cbc-7fc849df5899"
      },
      "source": [
        "print(f\"Num of binary_crossentropy outlier:{seqs_ds['binary_crossentropy_Outlier'].sum()}\")\n",
        "\n",
        "seqs_ds[seqs_ds['binary_crossentropy_Outlier']==1]"
      ],
      "execution_count": 12,
      "outputs": [
        {
          "output_type": "stream",
          "text": [
            "Num of binary_crossentropy outlier:188\n"
          ],
          "name": "stdout"
        },
        {
          "output_type": "execute_result",
          "data": {
            "text/html": [
              "<div>\n",
              "<style scoped>\n",
              "    .dataframe tbody tr th:only-of-type {\n",
              "        vertical-align: middle;\n",
              "    }\n",
              "\n",
              "    .dataframe tbody tr th {\n",
              "        vertical-align: top;\n",
              "    }\n",
              "\n",
              "    .dataframe thead th {\n",
              "        text-align: right;\n",
              "    }\n",
              "</style>\n",
              "<table border=\"1\" class=\"dataframe\">\n",
              "  <thead>\n",
              "    <tr style=\"text-align: right;\">\n",
              "      <th></th>\n",
              "      <th>0</th>\n",
              "      <th>binary_crossentropy</th>\n",
              "      <th>binary_crossentropy_Outlier</th>\n",
              "    </tr>\n",
              "  </thead>\n",
              "  <tbody>\n",
              "    <tr>\n",
              "      <th>988</th>\n",
              "      <td>989</td>\n",
              "      <td>1.955678</td>\n",
              "      <td>1</td>\n",
              "    </tr>\n",
              "    <tr>\n",
              "      <th>989</th>\n",
              "      <td>990</td>\n",
              "      <td>1.227857</td>\n",
              "      <td>1</td>\n",
              "    </tr>\n",
              "    <tr>\n",
              "      <th>990</th>\n",
              "      <td>991</td>\n",
              "      <td>1.532056</td>\n",
              "      <td>1</td>\n",
              "    </tr>\n",
              "    <tr>\n",
              "      <th>991</th>\n",
              "      <td>992</td>\n",
              "      <td>1.475060</td>\n",
              "      <td>1</td>\n",
              "    </tr>\n",
              "    <tr>\n",
              "      <th>992</th>\n",
              "      <td>993</td>\n",
              "      <td>1.990344</td>\n",
              "      <td>1</td>\n",
              "    </tr>\n",
              "    <tr>\n",
              "      <th>...</th>\n",
              "      <td>...</td>\n",
              "      <td>...</td>\n",
              "      <td>...</td>\n",
              "    </tr>\n",
              "    <tr>\n",
              "      <th>1171</th>\n",
              "      <td>1172</td>\n",
              "      <td>1.909080</td>\n",
              "      <td>1</td>\n",
              "    </tr>\n",
              "    <tr>\n",
              "      <th>1172</th>\n",
              "      <td>1173</td>\n",
              "      <td>2.043504</td>\n",
              "      <td>1</td>\n",
              "    </tr>\n",
              "    <tr>\n",
              "      <th>1173</th>\n",
              "      <td>1174</td>\n",
              "      <td>2.125773</td>\n",
              "      <td>1</td>\n",
              "    </tr>\n",
              "    <tr>\n",
              "      <th>1174</th>\n",
              "      <td>1175</td>\n",
              "      <td>1.941264</td>\n",
              "      <td>1</td>\n",
              "    </tr>\n",
              "    <tr>\n",
              "      <th>1175</th>\n",
              "      <td>1176</td>\n",
              "      <td>2.056441</td>\n",
              "      <td>1</td>\n",
              "    </tr>\n",
              "  </tbody>\n",
              "</table>\n",
              "<p>188 rows × 3 columns</p>\n",
              "</div>"
            ],
            "text/plain": [
              "         0  binary_crossentropy  binary_crossentropy_Outlier\n",
              "988    989             1.955678                            1\n",
              "989    990             1.227857                            1\n",
              "990    991             1.532056                            1\n",
              "991    992             1.475060                            1\n",
              "992    993             1.990344                            1\n",
              "...    ...                  ...                          ...\n",
              "1171  1172             1.909080                            1\n",
              "1172  1173             2.043504                            1\n",
              "1173  1174             2.125773                            1\n",
              "1174  1175             1.941264                            1\n",
              "1175  1176             2.056441                            1\n",
              "\n",
              "[188 rows x 3 columns]"
            ]
          },
          "metadata": {
            "tags": []
          },
          "execution_count": 12
        }
      ]
    }
  ]
}