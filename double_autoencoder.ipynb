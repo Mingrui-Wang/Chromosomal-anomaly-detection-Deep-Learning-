{
  "nbformat": 4,
  "nbformat_minor": 0,
  "metadata": {
    "colab": {
      "name": "double autoencoder.ipynb",
      "provenance": [],
      "authorship_tag": "ABX9TyMfNL1lSMU3dxtE2m5k4iru",
      "include_colab_link": true
    },
    "kernelspec": {
      "name": "python3",
      "display_name": "Python 3"
    },
    "accelerator": "GPU"
  },
  "cells": [
    {
      "cell_type": "markdown",
      "metadata": {
        "id": "view-in-github",
        "colab_type": "text"
      },
      "source": [
        "<a href=\"https://colab.research.google.com/github/Mingrui-Wang/Inverse-of-a-Matrix/blob/master/double_autoencoder.ipynb\" target=\"_parent\"><img src=\"https://colab.research.google.com/assets/colab-badge.svg\" alt=\"Open In Colab\"/></a>"
      ]
    },
    {
      "cell_type": "code",
      "metadata": {
        "id": "goGfhklrf0CA",
        "colab_type": "code",
        "colab": {
          "base_uri": "https://localhost:8080/",
          "height": 433
        },
        "outputId": "df9e15bc-d5fb-4097-9011-76ad2ad20058"
      },
      "source": [
        "import os\n",
        "from google.colab import drive\n",
        "drive.mount('/content/drive')\n",
        "\n",
        "path = \"/content/drive/My Drive/暑期科研/\"\n",
        "\n",
        "os.chdir(path)\n",
        "os.listdir(path)"
      ],
      "execution_count": 1,
      "outputs": [
        {
          "output_type": "stream",
          "text": [
            "Drive already mounted at /content/drive; to attempt to forcibly remount, call drive.mount(\"/content/drive\", force_remount=True).\n"
          ],
          "name": "stdout"
        },
        {
          "output_type": "execute_result",
          "data": {
            "text/plain": [
              "['9total_y.npy',\n",
              " '9total_x.npy',\n",
              " 'normal_hard.npy',\n",
              " 'normal_hard_label.npy',\n",
              " 'N_A_H_label.npy',\n",
              " 'N_A_H.npy',\n",
              " 'Anomaly_label.npy',\n",
              " 'Anomaly.npy',\n",
              " 'chromosome_9_label.npy',\n",
              " 'chromosome_9.npy',\n",
              " 'chromosome_harddata_label.npy',\n",
              " 'chromosome_harddata.npy',\n",
              " 'my_model.h5',\n",
              " '测试集_label.npy',\n",
              " '测试集.npy',\n",
              " '训练集_label.npy',\n",
              " '训练集.npy',\n",
              " '训练集500_label.npy',\n",
              " '训练集500.npy',\n",
              " '训练集400.npy',\n",
              " '训练集400_label.npy',\n",
              " '训练集300_label.npy',\n",
              " '训练集300.npy']"
            ]
          },
          "metadata": {
            "tags": []
          },
          "execution_count": 1
        }
      ]
    },
    {
      "cell_type": "code",
      "metadata": {
        "id": "W-TGV021gJjk",
        "colab_type": "code",
        "colab": {
          "base_uri": "https://localhost:8080/",
          "height": 52
        },
        "outputId": "4d2139ed-b979-4ada-b9a8-1ed9f0a07b1e"
      },
      "source": [
        "import glob\n",
        "\n",
        "import numpy as np\n",
        "import pandas as pd\n",
        "import matplotlib.pyplot as plt\n",
        "\n",
        "\n",
        "from keras.preprocessing import image\n",
        "from keras.models import Model\n",
        "from keras.optimizers import Adam\n",
        "from keras.callbacks import EarlyStopping\n",
        "from keras.layers import Input, Dense, Activation, BatchNormalization, Flatten, Conv2D\n",
        "from keras.layers import MaxPooling2D, Dropout, UpSampling2D\n",
        "import os\n",
        "\n",
        "x_train_savepath = './训练集300.npy'\n",
        "y_train_savepath = './训练集300_label.npy'\n",
        "\n",
        "print('-------------Load Datasets-----------------')\n",
        "x_train = np.load(x_train_savepath)\n",
        "y_train = np.load(y_train_savepath)\n",
        "\n",
        "x_train = x_train.astype('float32')\n",
        "print(x_train.shape)"
      ],
      "execution_count": 2,
      "outputs": [
        {
          "output_type": "stream",
          "text": [
            "-------------Load Datasets-----------------\n",
            "(643, 22500)\n"
          ],
          "name": "stdout"
        }
      ]
    },
    {
      "cell_type": "code",
      "metadata": {
        "id": "7rZo-2ghk2by",
        "colab_type": "code",
        "colab": {
          "base_uri": "https://localhost:8080/",
          "height": 35
        },
        "outputId": "85469da9-00d2-48a4-d7c0-45bc6ae9321e"
      },
      "source": [
        "x_test = x_train[468:643]\n",
        "x_train_new = x_train[0:468]\n",
        "x_train = x_train_new\n",
        "len(x_test)"
      ],
      "execution_count": 3,
      "outputs": [
        {
          "output_type": "execute_result",
          "data": {
            "text/plain": [
              "175"
            ]
          },
          "metadata": {
            "tags": []
          },
          "execution_count": 3
        }
      ]
    },
    {
      "cell_type": "code",
      "metadata": {
        "id": "C0aKNkkWgZTr",
        "colab_type": "code",
        "colab": {
          "base_uri": "https://localhost:8080/",
          "height": 52
        },
        "outputId": "a8dedafe-b902-4c7c-91d5-0586f941e4f0"
      },
      "source": [
        "import tensorflow as tf\n",
        "import os\n",
        "import numpy as np\n",
        "from matplotlib import pyplot as plt\n",
        "from tensorflow.keras.layers import Conv2D, BatchNormalization, Activation, MaxPool2D, Dropout, Flatten, Dense\n",
        "from tensorflow.keras import Model\n",
        "\n",
        "np.set_printoptions(threshold=np.inf)\n",
        "\n",
        "x_train, x_test = x_train / 255.0, x_test / 255.0\n",
        "\n",
        "x_train = x_train.reshape(x_train.shape[0], 150, 150, 1)  # 给数据增加一个维度，使数据和网络结构匹配\n",
        "x_test = x_test.reshape(x_test.shape[0], 150, 150, 1)  # 给数据增加一个维度，使数据和网络结构匹配\n",
        "\n",
        "\n",
        "print(\"x_train.shape\", x_train.shape)\n",
        "print(\"x_test.shape\", x_test.shape)"
      ],
      "execution_count": 4,
      "outputs": [
        {
          "output_type": "stream",
          "text": [
            "x_train.shape (468, 150, 150, 1)\n",
            "x_test.shape (175, 150, 150, 1)\n"
          ],
          "name": "stdout"
        }
      ]
    },
    {
      "cell_type": "code",
      "metadata": {
        "id": "SPQ4cPrwgFig",
        "colab_type": "code",
        "colab": {}
      },
      "source": [
        "class Autoencoder():\n",
        "    def __init__(self):\n",
        "\n",
        "        self.img_shape = (150,150,1)\n",
        "\n",
        "        optimizer = Adam(lr=0.001)\n",
        "\n",
        "        self.autoencoder_model = self.build_model()\n",
        "        self.autoencoder_model.compile(loss='binary_crossentropy', optimizer=optimizer)\n",
        "        self.autoencoder_model.summary()\n",
        "\n",
        "    def build_model(self):\n",
        "        input_layer = Input(shape=self.img_shape)\n",
        "\n",
        "        # encoder\n",
        "        h = Conv2D(64, (3, 3), activation='relu', padding='same')(input_layer)\n",
        "        h = MaxPooling2D((2, 2), padding='same')(h)\n",
        "        h = Conv2D(64, (3, 3), activation='relu', padding='same')(h)\n",
        "        h = MaxPooling2D((3, 3), padding='same')(h)\n",
        "\n",
        "        # decoder\n",
        "        h = Conv2D(64, (3, 3), activation='relu', padding='same')(h)\n",
        "        h = UpSampling2D((3, 3))(h)\n",
        "        h = Conv2D(64, (3, 3), activation='relu', padding='same')(h)\n",
        "        h = UpSampling2D((2, 2))(h)\n",
        "\n",
        "        output_layer = Conv2D(1, (3, 3), activation='sigmoid', padding='same')(h)\n",
        "\n",
        "        return Model(input_layer, output_layer)\n",
        "\n",
        "    def train_model(self, x_train, y_train, x_test, y_test, epochs, batch_size):\n",
        "        early_stopping = EarlyStopping(monitor='val_loss',\n",
        "                                       min_delta=0,\n",
        "                                       patience=5,\n",
        "                                       verbose=1,\n",
        "                                       mode='auto')\n",
        "        history = self.autoencoder_model.fit(x_train, x_train,\n",
        "                                             batch_size=batch_size,\n",
        "                                             epochs=epochs,\n",
        "                                             validation_data=(x_test, x_test),\n",
        "                                             callbacks=[early_stopping])\n",
        "        \n",
        "        file = self.autoencoder_model.save_weights('my_model.h5')\n",
        "\n",
        "        plt.plot(history.history['loss'])\n",
        "        plt.plot(history.history['val_loss'])\n",
        "        plt.title('Model loss')\n",
        "        plt.ylabel('Loss')\n",
        "        plt.xlabel('Epoch')\n",
        "        plt.legend(['Train', 'Test'], loc='upper left')\n",
        "        plt.show()\n",
        "\n",
        "    def eval_model(self, x_test):\n",
        "        preds = self.autoencoder_model.predict(x_test)\n",
        "        return preds\n"
      ],
      "execution_count": 5,
      "outputs": []
    },
    {
      "cell_type": "code",
      "metadata": {
        "id": "LPwc2DopgfjW",
        "colab_type": "code",
        "colab": {
          "base_uri": "https://localhost:8080/",
          "height": 1000
        },
        "outputId": "c827d10f-0450-449e-f950-f9e6a02ca812"
      },
      "source": [
        "ae = Autoencoder()\n",
        "ae.train_model(x_train, x_train, x_test, x_test, epochs=20, batch_size=3)"
      ],
      "execution_count": 6,
      "outputs": [
        {
          "output_type": "stream",
          "text": [
            "Model: \"functional_1\"\n",
            "_________________________________________________________________\n",
            "Layer (type)                 Output Shape              Param #   \n",
            "=================================================================\n",
            "input_1 (InputLayer)         [(None, 150, 150, 1)]     0         \n",
            "_________________________________________________________________\n",
            "conv2d (Conv2D)              (None, 150, 150, 64)      640       \n",
            "_________________________________________________________________\n",
            "max_pooling2d (MaxPooling2D) (None, 75, 75, 64)        0         \n",
            "_________________________________________________________________\n",
            "conv2d_1 (Conv2D)            (None, 75, 75, 64)        36928     \n",
            "_________________________________________________________________\n",
            "max_pooling2d_1 (MaxPooling2 (None, 25, 25, 64)        0         \n",
            "_________________________________________________________________\n",
            "conv2d_2 (Conv2D)            (None, 25, 25, 64)        36928     \n",
            "_________________________________________________________________\n",
            "up_sampling2d (UpSampling2D) (None, 75, 75, 64)        0         \n",
            "_________________________________________________________________\n",
            "conv2d_3 (Conv2D)            (None, 75, 75, 64)        36928     \n",
            "_________________________________________________________________\n",
            "up_sampling2d_1 (UpSampling2 (None, 150, 150, 64)      0         \n",
            "_________________________________________________________________\n",
            "conv2d_4 (Conv2D)            (None, 150, 150, 1)       577       \n",
            "=================================================================\n",
            "Total params: 112,001\n",
            "Trainable params: 112,001\n",
            "Non-trainable params: 0\n",
            "_________________________________________________________________\n",
            "Epoch 1/20\n",
            "156/156 [==============================] - 4s 23ms/step - loss: 0.0653 - val_loss: 0.0247\n",
            "Epoch 2/20\n",
            "156/156 [==============================] - 3s 20ms/step - loss: 0.0236 - val_loss: 0.0243\n",
            "Epoch 3/20\n",
            "156/156 [==============================] - 3s 20ms/step - loss: 0.0234 - val_loss: 0.0242\n",
            "Epoch 4/20\n",
            "156/156 [==============================] - 3s 20ms/step - loss: 0.0234 - val_loss: 0.0242\n",
            "Epoch 5/20\n",
            "156/156 [==============================] - 3s 20ms/step - loss: 0.0234 - val_loss: 0.0242\n",
            "Epoch 6/20\n",
            "156/156 [==============================] - 3s 20ms/step - loss: 0.0234 - val_loss: 0.0242\n",
            "Epoch 7/20\n",
            "156/156 [==============================] - 3s 20ms/step - loss: 0.0234 - val_loss: 0.0242\n",
            "Epoch 8/20\n",
            "156/156 [==============================] - 3s 20ms/step - loss: 0.0234 - val_loss: 0.0242\n",
            "Epoch 9/20\n",
            "156/156 [==============================] - 3s 20ms/step - loss: 0.0234 - val_loss: 0.0242\n",
            "Epoch 10/20\n",
            "156/156 [==============================] - 3s 20ms/step - loss: 0.0234 - val_loss: 0.0242\n",
            "Epoch 11/20\n",
            "156/156 [==============================] - 3s 20ms/step - loss: 0.0233 - val_loss: 0.0242\n",
            "Epoch 12/20\n",
            "156/156 [==============================] - 3s 20ms/step - loss: 0.0233 - val_loss: 0.0241\n",
            "Epoch 13/20\n",
            "156/156 [==============================] - 3s 20ms/step - loss: 0.0233 - val_loss: 0.0241\n",
            "Epoch 14/20\n",
            "156/156 [==============================] - 3s 20ms/step - loss: 0.0233 - val_loss: 0.0241\n",
            "Epoch 15/20\n",
            "156/156 [==============================] - 3s 20ms/step - loss: 0.0233 - val_loss: 0.0241\n",
            "Epoch 16/20\n",
            "156/156 [==============================] - 3s 20ms/step - loss: 0.0233 - val_loss: 0.0241\n",
            "Epoch 17/20\n",
            "156/156 [==============================] - 3s 20ms/step - loss: 0.0233 - val_loss: 0.0241\n",
            "Epoch 18/20\n",
            "156/156 [==============================] - 3s 20ms/step - loss: 0.0233 - val_loss: 0.0241\n",
            "Epoch 19/20\n",
            "156/156 [==============================] - 3s 20ms/step - loss: 0.0233 - val_loss: 0.0241\n",
            "Epoch 20/20\n",
            "156/156 [==============================] - 3s 20ms/step - loss: 0.0233 - val_loss: 0.0241\n"
          ],
          "name": "stdout"
        },
        {
          "output_type": "display_data",
          "data": {
            "image/png": "[encoded data removed]",
            "text/plain": [
              "<Figure size 432x288 with 1 Axes>"
            ]
          },
          "metadata": {
            "tags": [],
            "needs_background": "light"
          }
        }
      ]
    },
    {
      "cell_type": "code",
      "metadata": {
        "id": "e-AvHqMhhMri",
        "colab_type": "code",
        "colab": {}
      },
      "source": [
        "decoded_test = ae.eval_model(x_test)\n",
        "### get the error term of all testing dataset images\n",
        "from sklearn.preprocessing import StandardScaler, MinMaxScaler\n",
        "scaler = MinMaxScaler()\n",
        "#scale it\n",
        "scaled_input_test = scaler.fit_transform(x_test.reshape(-1,22500))\n",
        "#scale it\n",
        "scaled_output_test = scaler.fit_transform(decoded_test.reshape(-1,22500))"
      ],
      "execution_count": 7,
      "outputs": []
    },
    {
      "cell_type": "code",
      "metadata": {
        "id": "1C3t5iXirSZf",
        "colab_type": "code",
        "colab": {}
      },
      "source": [
        "### get the error term of all training set images\n",
        "\n",
        "# Firstly, we get the decoder image of training set.\n",
        "decoded_train = ae.eval_model(x_train)\n",
        "\n",
        "from sklearn.preprocessing import StandardScaler, MinMaxScaler\n",
        "scaler = MinMaxScaler()\n",
        "#scale it\n",
        "scaled_input_train = scaler.fit_transform(x_train.reshape(-1,22500))\n",
        "#scale it\n",
        "scaled_output_train = scaler.fit_transform(decoded_train.reshape(-1,22500))"
      ],
      "execution_count": 8,
      "outputs": []
    },
    {
      "cell_type": "code",
      "metadata": {
        "id": "1WN94mmkhjsD",
        "colab_type": "code",
        "colab": {}
      },
      "source": [
        "import pandas as pd\n",
        "sequences = range(1,644)\n",
        "from keras import losses\n",
        "x = losses.binary_crossentropy(scaled_input_train,scaled_output_train)\n",
        "y = losses.binary_crossentropy(scaled_input_test,scaled_output_test)"
      ],
      "execution_count": 9,
      "outputs": []
    },
    {
      "cell_type": "code",
      "metadata": {
        "id": "5KK4ycXwhqzo",
        "colab_type": "code",
        "colab": {
          "base_uri": "https://localhost:8080/",
          "height": 415
        },
        "outputId": "4175b389-dfa7-4ad3-b9bf-2045c22ff270"
      },
      "source": [
        "seqs_ds = pd.DataFrame(sequences)\n",
        "mse = np.append(x,y)\n",
        "seqs_ds['binary_crossentropy'] = mse\n",
        "seqs_ds"
      ],
      "execution_count": 10,
      "outputs": [
        {
          "output_type": "execute_result",
          "data": {
            "text/html": [
              "<div>\n",
              "<style scoped>\n",
              "    .dataframe tbody tr th:only-of-type {\n",
              "        vertical-align: middle;\n",
              "    }\n",
              "\n",
              "    .dataframe tbody tr th {\n",
              "        vertical-align: top;\n",
              "    }\n",
              "\n",
              "    .dataframe thead th {\n",
              "        text-align: right;\n",
              "    }\n",
              "</style>\n",
              "<table border=\"1\" class=\"dataframe\">\n",
              "  <thead>\n",
              "    <tr style=\"text-align: right;\">\n",
              "      <th></th>\n",
              "      <th>0</th>\n",
              "      <th>binary_crossentropy</th>\n",
              "    </tr>\n",
              "  </thead>\n",
              "  <tbody>\n",
              "    <tr>\n",
              "      <th>0</th>\n",
              "      <td>1</td>\n",
              "      <td>1.822576</td>\n",
              "    </tr>\n",
              "    <tr>\n",
              "      <th>1</th>\n",
              "      <td>2</td>\n",
              "      <td>1.827692</td>\n",
              "    </tr>\n",
              "    <tr>\n",
              "      <th>2</th>\n",
              "      <td>3</td>\n",
              "      <td>1.796967</td>\n",
              "    </tr>\n",
              "    <tr>\n",
              "      <th>3</th>\n",
              "      <td>4</td>\n",
              "      <td>1.814368</td>\n",
              "    </tr>\n",
              "    <tr>\n",
              "      <th>4</th>\n",
              "      <td>5</td>\n",
              "      <td>1.881199</td>\n",
              "    </tr>\n",
              "    <tr>\n",
              "      <th>...</th>\n",
              "      <td>...</td>\n",
              "      <td>...</td>\n",
              "    </tr>\n",
              "    <tr>\n",
              "      <th>638</th>\n",
              "      <td>639</td>\n",
              "      <td>2.602739</td>\n",
              "    </tr>\n",
              "    <tr>\n",
              "      <th>639</th>\n",
              "      <td>640</td>\n",
              "      <td>2.811854</td>\n",
              "    </tr>\n",
              "    <tr>\n",
              "      <th>640</th>\n",
              "      <td>641</td>\n",
              "      <td>3.477071</td>\n",
              "    </tr>\n",
              "    <tr>\n",
              "      <th>641</th>\n",
              "      <td>642</td>\n",
              "      <td>2.319051</td>\n",
              "    </tr>\n",
              "    <tr>\n",
              "      <th>642</th>\n",
              "      <td>643</td>\n",
              "      <td>3.380213</td>\n",
              "    </tr>\n",
              "  </tbody>\n",
              "</table>\n",
              "<p>643 rows × 2 columns</p>\n",
              "</div>"
            ],
            "text/plain": [
              "       0  binary_crossentropy\n",
              "0      1             1.822576\n",
              "1      2             1.827692\n",
              "2      3             1.796967\n",
              "3      4             1.814368\n",
              "4      5             1.881199\n",
              "..   ...                  ...\n",
              "638  639             2.602739\n",
              "639  640             2.811854\n",
              "640  641             3.477071\n",
              "641  642             2.319051\n",
              "642  643             3.380213\n",
              "\n",
              "[643 rows x 2 columns]"
            ]
          },
          "metadata": {
            "tags": []
          },
          "execution_count": 10
        }
      ]
    },
    {
      "cell_type": "code",
      "metadata": {
        "id": "K6l-DtxyiElY",
        "colab_type": "code",
        "colab": {
          "base_uri": "https://localhost:8080/",
          "height": 35
        },
        "outputId": "4d156307-7a01-464a-9228-2abe51472974"
      },
      "source": [
        "threshold = len(x_train)/(len(x_train)+len(x_test))\n",
        "threshold"
      ],
      "execution_count": 11,
      "outputs": [
        {
          "output_type": "execute_result",
          "data": {
            "text/plain": [
              "0.7278382581648523"
            ]
          },
          "metadata": {
            "tags": []
          },
          "execution_count": 11
        }
      ]
    },
    {
      "cell_type": "code",
      "metadata": {
        "id": "z-2YYBEOh-sW",
        "colab_type": "code",
        "colab": {
          "base_uri": "https://localhost:8080/",
          "height": 35
        },
        "outputId": "32060ebb-5de6-4d61-a9ba-c08dc97fa781"
      },
      "source": [
        "binary_crossentropy_threshold = np.quantile(seqs_ds['binary_crossentropy'], threshold)\n",
        "print(f'binary_crossentropy threshhold:{binary_crossentropy_threshold}')"
      ],
      "execution_count": 12,
      "outputs": [
        {
          "output_type": "stream",
          "text": [
            "binary_crossentropy threshhold:2.1345039911996886\n"
          ],
          "name": "stdout"
        }
      ]
    },
    {
      "cell_type": "code",
      "metadata": {
        "id": "8rBpLSSkjSZ0",
        "colab_type": "code",
        "colab": {
          "base_uri": "https://localhost:8080/",
          "height": 433
        },
        "outputId": "625dba09-de88-4c96-ded2-979ddb463422"
      },
      "source": [
        "seqs_ds['binary_crossentropy_Outlier'] = 0\n",
        "seqs_ds.loc[seqs_ds['binary_crossentropy'] > binary_crossentropy_threshold, 'binary_crossentropy_Outlier'] = 1\n",
        "print(f\"Num of binary_crossentropy outlier:{seqs_ds['binary_crossentropy_Outlier'].sum()}\")\n",
        "\n",
        "seqs_ds[seqs_ds['binary_crossentropy_Outlier']==1]"
      ],
      "execution_count": 13,
      "outputs": [
        {
          "output_type": "stream",
          "text": [
            "Num of binary_crossentropy outlier:175\n"
          ],
          "name": "stdout"
        },
        {
          "output_type": "execute_result",
          "data": {
            "text/html": [
              "<div>\n",
              "<style scoped>\n",
              "    .dataframe tbody tr th:only-of-type {\n",
              "        vertical-align: middle;\n",
              "    }\n",
              "\n",
              "    .dataframe tbody tr th {\n",
              "        vertical-align: top;\n",
              "    }\n",
              "\n",
              "    .dataframe thead th {\n",
              "        text-align: right;\n",
              "    }\n",
              "</style>\n",
              "<table border=\"1\" class=\"dataframe\">\n",
              "  <thead>\n",
              "    <tr style=\"text-align: right;\">\n",
              "      <th></th>\n",
              "      <th>0</th>\n",
              "      <th>binary_crossentropy</th>\n",
              "      <th>binary_crossentropy_Outlier</th>\n",
              "    </tr>\n",
              "  </thead>\n",
              "  <tbody>\n",
              "    <tr>\n",
              "      <th>457</th>\n",
              "      <td>458</td>\n",
              "      <td>2.176863</td>\n",
              "      <td>1</td>\n",
              "    </tr>\n",
              "    <tr>\n",
              "      <th>458</th>\n",
              "      <td>459</td>\n",
              "      <td>2.225432</td>\n",
              "      <td>1</td>\n",
              "    </tr>\n",
              "    <tr>\n",
              "      <th>469</th>\n",
              "      <td>470</td>\n",
              "      <td>3.400373</td>\n",
              "      <td>1</td>\n",
              "    </tr>\n",
              "    <tr>\n",
              "      <th>470</th>\n",
              "      <td>471</td>\n",
              "      <td>3.474708</td>\n",
              "      <td>1</td>\n",
              "    </tr>\n",
              "    <tr>\n",
              "      <th>471</th>\n",
              "      <td>472</td>\n",
              "      <td>3.355517</td>\n",
              "      <td>1</td>\n",
              "    </tr>\n",
              "    <tr>\n",
              "      <th>...</th>\n",
              "      <td>...</td>\n",
              "      <td>...</td>\n",
              "      <td>...</td>\n",
              "    </tr>\n",
              "    <tr>\n",
              "      <th>638</th>\n",
              "      <td>639</td>\n",
              "      <td>2.602739</td>\n",
              "      <td>1</td>\n",
              "    </tr>\n",
              "    <tr>\n",
              "      <th>639</th>\n",
              "      <td>640</td>\n",
              "      <td>2.811854</td>\n",
              "      <td>1</td>\n",
              "    </tr>\n",
              "    <tr>\n",
              "      <th>640</th>\n",
              "      <td>641</td>\n",
              "      <td>3.477071</td>\n",
              "      <td>1</td>\n",
              "    </tr>\n",
              "    <tr>\n",
              "      <th>641</th>\n",
              "      <td>642</td>\n",
              "      <td>2.319051</td>\n",
              "      <td>1</td>\n",
              "    </tr>\n",
              "    <tr>\n",
              "      <th>642</th>\n",
              "      <td>643</td>\n",
              "      <td>3.380213</td>\n",
              "      <td>1</td>\n",
              "    </tr>\n",
              "  </tbody>\n",
              "</table>\n",
              "<p>175 rows × 3 columns</p>\n",
              "</div>"
            ],
            "text/plain": [
              "       0  binary_crossentropy  binary_crossentropy_Outlier\n",
              "457  458             2.176863                            1\n",
              "458  459             2.225432                            1\n",
              "469  470             3.400373                            1\n",
              "470  471             3.474708                            1\n",
              "471  472             3.355517                            1\n",
              "..   ...                  ...                          ...\n",
              "638  639             2.602739                            1\n",
              "639  640             2.811854                            1\n",
              "640  641             3.477071                            1\n",
              "641  642             2.319051                            1\n",
              "642  643             3.380213                            1\n",
              "\n",
              "[175 rows x 3 columns]"
            ]
          },
          "metadata": {
            "tags": []
          },
          "execution_count": 13
        }
      ]
    },
    {
      "cell_type": "code",
      "metadata": {
        "id": "U3O0O5XMtBr8",
        "colab_type": "code",
        "colab": {
          "base_uri": "https://localhost:8080/",
          "height": 52
        },
        "outputId": "a3351aa1-1d1d-4f72-dd75-08ced027f2d6"
      },
      "source": [
        "x_train_savepath = './N_A_H.npy'\n",
        "y_train_savepath = './N_A_H_label.npy'\n",
        "\n",
        "print('-------------Load Datasets-----------------')\n",
        "x_train = np.load(x_train_savepath)\n",
        "y_train = np.load(y_train_savepath)\n",
        "\n",
        "x_train = x_train.astype('float32')\n",
        "print(x_train.shape)"
      ],
      "execution_count": 19,
      "outputs": [
        {
          "output_type": "stream",
          "text": [
            "-------------Load Datasets-----------------\n",
            "(2359, 22500)\n"
          ],
          "name": "stdout"
        }
      ]
    },
    {
      "cell_type": "code",
      "metadata": {
        "id": "4IdNZEA2tYD3",
        "colab_type": "code",
        "colab": {
          "base_uri": "https://localhost:8080/",
          "height": 35
        },
        "outputId": "ee54ee63-21d8-4518-c278-785316b5d933"
      },
      "source": [
        "x_train = np.reshape(x_train, (len(x_train), 150, 150,1))\n",
        "x_train = x_train / 255.0\n",
        "x_train = x_train.astype('float32')\n",
        "print(x_train.shape)"
      ],
      "execution_count": 20,
      "outputs": [
        {
          "output_type": "stream",
          "text": [
            "(2359, 150, 150, 1)\n"
          ],
          "name": "stdout"
        }
      ]
    },
    {
      "cell_type": "code",
      "metadata": {
        "id": "_9PAyaS4tvtZ",
        "colab_type": "code",
        "colab": {}
      },
      "source": [
        "### get the error term of all training set images\n",
        "\n",
        "# Firstly, we get the decoder image of training set.\n",
        "decoded_train = ae.eval_model(x_train)\n",
        "\n",
        "from sklearn.preprocessing import StandardScaler, MinMaxScaler\n",
        "scaler = MinMaxScaler()\n",
        "#scale it\n",
        "scaled_input_train = scaler.fit_transform(x_train.reshape(-1,22500))\n",
        "#scale it\n",
        "scaled_output_train = scaler.fit_transform(decoded_train.reshape(-1,22500))\n",
        "\n",
        "import pandas as pd\n",
        "sequences = range(1,2360)\n",
        "from keras import losses\n",
        "x = losses.binary_crossentropy(scaled_input_train,scaled_output_train)"
      ],
      "execution_count": 21,
      "outputs": []
    },
    {
      "cell_type": "code",
      "metadata": {
        "id": "sKWe3uvyt6jq",
        "colab_type": "code",
        "colab": {
          "base_uri": "https://localhost:8080/",
          "height": 415
        },
        "outputId": "1cb2c7d5-5939-4f22-9dc3-81dda7418a9b"
      },
      "source": [
        "seqs_ds = pd.DataFrame(sequences)\n",
        "seqs_ds['binary_crossentropy'] = x\n",
        "seqs_ds"
      ],
      "execution_count": 22,
      "outputs": [
        {
          "output_type": "execute_result",
          "data": {
            "text/html": [
              "<div>\n",
              "<style scoped>\n",
              "    .dataframe tbody tr th:only-of-type {\n",
              "        vertical-align: middle;\n",
              "    }\n",
              "\n",
              "    .dataframe tbody tr th {\n",
              "        vertical-align: top;\n",
              "    }\n",
              "\n",
              "    .dataframe thead th {\n",
              "        text-align: right;\n",
              "    }\n",
              "</style>\n",
              "<table border=\"1\" class=\"dataframe\">\n",
              "  <thead>\n",
              "    <tr style=\"text-align: right;\">\n",
              "      <th></th>\n",
              "      <th>0</th>\n",
              "      <th>binary_crossentropy</th>\n",
              "    </tr>\n",
              "  </thead>\n",
              "  <tbody>\n",
              "    <tr>\n",
              "      <th>0</th>\n",
              "      <td>1</td>\n",
              "      <td>1.807528</td>\n",
              "    </tr>\n",
              "    <tr>\n",
              "      <th>1</th>\n",
              "      <td>2</td>\n",
              "      <td>1.799743</td>\n",
              "    </tr>\n",
              "    <tr>\n",
              "      <th>2</th>\n",
              "      <td>3</td>\n",
              "      <td>1.814137</td>\n",
              "    </tr>\n",
              "    <tr>\n",
              "      <th>3</th>\n",
              "      <td>4</td>\n",
              "      <td>1.811338</td>\n",
              "    </tr>\n",
              "    <tr>\n",
              "      <th>4</th>\n",
              "      <td>5</td>\n",
              "      <td>1.771123</td>\n",
              "    </tr>\n",
              "    <tr>\n",
              "      <th>...</th>\n",
              "      <td>...</td>\n",
              "      <td>...</td>\n",
              "    </tr>\n",
              "    <tr>\n",
              "      <th>2354</th>\n",
              "      <td>2355</td>\n",
              "      <td>2.214394</td>\n",
              "    </tr>\n",
              "    <tr>\n",
              "      <th>2355</th>\n",
              "      <td>2356</td>\n",
              "      <td>2.109753</td>\n",
              "    </tr>\n",
              "    <tr>\n",
              "      <th>2356</th>\n",
              "      <td>2357</td>\n",
              "      <td>2.119519</td>\n",
              "    </tr>\n",
              "    <tr>\n",
              "      <th>2357</th>\n",
              "      <td>2358</td>\n",
              "      <td>2.038237</td>\n",
              "    </tr>\n",
              "    <tr>\n",
              "      <th>2358</th>\n",
              "      <td>2359</td>\n",
              "      <td>2.138731</td>\n",
              "    </tr>\n",
              "  </tbody>\n",
              "</table>\n",
              "<p>2359 rows × 2 columns</p>\n",
              "</div>"
            ],
            "text/plain": [
              "         0  binary_crossentropy\n",
              "0        1             1.807528\n",
              "1        2             1.799743\n",
              "2        3             1.814137\n",
              "3        4             1.811338\n",
              "4        5             1.771123\n",
              "...    ...                  ...\n",
              "2354  2355             2.214394\n",
              "2355  2356             2.109753\n",
              "2356  2357             2.119519\n",
              "2357  2358             2.038237\n",
              "2358  2359             2.138731\n",
              "\n",
              "[2359 rows x 2 columns]"
            ]
          },
          "metadata": {
            "tags": []
          },
          "execution_count": 22
        }
      ]
    },
    {
      "cell_type": "code",
      "metadata": {
        "id": "1z2bz1FSuFjN",
        "colab_type": "code",
        "colab": {
          "base_uri": "https://localhost:8080/",
          "height": 450
        },
        "outputId": "d1dfe5a6-d1b7-4220-d395-85be8badf00e"
      },
      "source": [
        "threshold = 2164/2359\n",
        "\n",
        "binary_crossentropy_threshold = np.quantile(seqs_ds['binary_crossentropy'], threshold)\n",
        "print(f'binary_crossentropy threshhold:{binary_crossentropy_threshold}')\n",
        "\n",
        "seqs_ds['binary_crossentropy_Outlier'] = 0\n",
        "seqs_ds.loc[seqs_ds['binary_crossentropy'] > binary_crossentropy_threshold, 'binary_crossentropy_Outlier'] = 1\n",
        "\n",
        "print(f\"Num of binary_crossentropy outlier:{seqs_ds['binary_crossentropy_Outlier'].sum()}\")\n",
        "\n",
        "seqs_ds[seqs_ds['binary_crossentropy_Outlier']==1]"
      ],
      "execution_count": 25,
      "outputs": [
        {
          "output_type": "stream",
          "text": [
            "binary_crossentropy threshhold:1.8151640740932675\n",
            "Num of binary_crossentropy outlier:195\n"
          ],
          "name": "stdout"
        },
        {
          "output_type": "execute_result",
          "data": {
            "text/html": [
              "<div>\n",
              "<style scoped>\n",
              "    .dataframe tbody tr th:only-of-type {\n",
              "        vertical-align: middle;\n",
              "    }\n",
              "\n",
              "    .dataframe tbody tr th {\n",
              "        vertical-align: top;\n",
              "    }\n",
              "\n",
              "    .dataframe thead th {\n",
              "        text-align: right;\n",
              "    }\n",
              "</style>\n",
              "<table border=\"1\" class=\"dataframe\">\n",
              "  <thead>\n",
              "    <tr style=\"text-align: right;\">\n",
              "      <th></th>\n",
              "      <th>0</th>\n",
              "      <th>binary_crossentropy</th>\n",
              "      <th>binary_crossentropy_Outlier</th>\n",
              "    </tr>\n",
              "  </thead>\n",
              "  <tbody>\n",
              "    <tr>\n",
              "      <th>29</th>\n",
              "      <td>30</td>\n",
              "      <td>1.866191</td>\n",
              "      <td>1</td>\n",
              "    </tr>\n",
              "    <tr>\n",
              "      <th>37</th>\n",
              "      <td>38</td>\n",
              "      <td>1.822661</td>\n",
              "      <td>1</td>\n",
              "    </tr>\n",
              "    <tr>\n",
              "      <th>50</th>\n",
              "      <td>51</td>\n",
              "      <td>1.829268</td>\n",
              "      <td>1</td>\n",
              "    </tr>\n",
              "    <tr>\n",
              "      <th>64</th>\n",
              "      <td>65</td>\n",
              "      <td>1.825201</td>\n",
              "      <td>1</td>\n",
              "    </tr>\n",
              "    <tr>\n",
              "      <th>92</th>\n",
              "      <td>93</td>\n",
              "      <td>1.819275</td>\n",
              "      <td>1</td>\n",
              "    </tr>\n",
              "    <tr>\n",
              "      <th>...</th>\n",
              "      <td>...</td>\n",
              "      <td>...</td>\n",
              "      <td>...</td>\n",
              "    </tr>\n",
              "    <tr>\n",
              "      <th>2354</th>\n",
              "      <td>2355</td>\n",
              "      <td>2.214394</td>\n",
              "      <td>1</td>\n",
              "    </tr>\n",
              "    <tr>\n",
              "      <th>2355</th>\n",
              "      <td>2356</td>\n",
              "      <td>2.109753</td>\n",
              "      <td>1</td>\n",
              "    </tr>\n",
              "    <tr>\n",
              "      <th>2356</th>\n",
              "      <td>2357</td>\n",
              "      <td>2.119519</td>\n",
              "      <td>1</td>\n",
              "    </tr>\n",
              "    <tr>\n",
              "      <th>2357</th>\n",
              "      <td>2358</td>\n",
              "      <td>2.038237</td>\n",
              "      <td>1</td>\n",
              "    </tr>\n",
              "    <tr>\n",
              "      <th>2358</th>\n",
              "      <td>2359</td>\n",
              "      <td>2.138731</td>\n",
              "      <td>1</td>\n",
              "    </tr>\n",
              "  </tbody>\n",
              "</table>\n",
              "<p>195 rows × 3 columns</p>\n",
              "</div>"
            ],
            "text/plain": [
              "         0  binary_crossentropy  binary_crossentropy_Outlier\n",
              "29      30             1.866191                            1\n",
              "37      38             1.822661                            1\n",
              "50      51             1.829268                            1\n",
              "64      65             1.825201                            1\n",
              "92      93             1.819275                            1\n",
              "...    ...                  ...                          ...\n",
              "2354  2355             2.214394                            1\n",
              "2355  2356             2.109753                            1\n",
              "2356  2357             2.119519                            1\n",
              "2357  2358             2.038237                            1\n",
              "2358  2359             2.138731                            1\n",
              "\n",
              "[195 rows x 3 columns]"
            ]
          },
          "metadata": {
            "tags": []
          },
          "execution_count": 25
        }
      ]
    },
    {
      "cell_type": "code",
      "metadata": {
        "id": "Sof-Mq_Qup4o",
        "colab_type": "code",
        "colab": {
          "base_uri": "https://localhost:8080/",
          "height": 815
        },
        "outputId": "2ce88766-9c39-4c94-dfa2-ba1f2a5a1c37"
      },
      "source": [
        "hard_data = seqs_ds[2164:2359]\n",
        "hard_data[hard_data['binary_crossentropy_Outlier']==1]"
      ],
      "execution_count": 32,
      "outputs": [
        {
          "output_type": "execute_result",
          "data": {
            "text/html": [
              "<div>\n",
              "<style scoped>\n",
              "    .dataframe tbody tr th:only-of-type {\n",
              "        vertical-align: middle;\n",
              "    }\n",
              "\n",
              "    .dataframe tbody tr th {\n",
              "        vertical-align: top;\n",
              "    }\n",
              "\n",
              "    .dataframe thead th {\n",
              "        text-align: right;\n",
              "    }\n",
              "</style>\n",
              "<table border=\"1\" class=\"dataframe\">\n",
              "  <thead>\n",
              "    <tr style=\"text-align: right;\">\n",
              "      <th></th>\n",
              "      <th>0</th>\n",
              "      <th>binary_crossentropy</th>\n",
              "      <th>binary_crossentropy_Outlier</th>\n",
              "    </tr>\n",
              "  </thead>\n",
              "  <tbody>\n",
              "    <tr>\n",
              "      <th>2206</th>\n",
              "      <td>2207</td>\n",
              "      <td>1.847616</td>\n",
              "      <td>1</td>\n",
              "    </tr>\n",
              "    <tr>\n",
              "      <th>2335</th>\n",
              "      <td>2336</td>\n",
              "      <td>1.898132</td>\n",
              "      <td>1</td>\n",
              "    </tr>\n",
              "    <tr>\n",
              "      <th>2336</th>\n",
              "      <td>2337</td>\n",
              "      <td>2.028026</td>\n",
              "      <td>1</td>\n",
              "    </tr>\n",
              "    <tr>\n",
              "      <th>2337</th>\n",
              "      <td>2338</td>\n",
              "      <td>2.085515</td>\n",
              "      <td>1</td>\n",
              "    </tr>\n",
              "    <tr>\n",
              "      <th>2338</th>\n",
              "      <td>2339</td>\n",
              "      <td>2.086570</td>\n",
              "      <td>1</td>\n",
              "    </tr>\n",
              "    <tr>\n",
              "      <th>2339</th>\n",
              "      <td>2340</td>\n",
              "      <td>2.038237</td>\n",
              "      <td>1</td>\n",
              "    </tr>\n",
              "    <tr>\n",
              "      <th>2340</th>\n",
              "      <td>2341</td>\n",
              "      <td>2.085515</td>\n",
              "      <td>1</td>\n",
              "    </tr>\n",
              "    <tr>\n",
              "      <th>2341</th>\n",
              "      <td>2342</td>\n",
              "      <td>2.065069</td>\n",
              "      <td>1</td>\n",
              "    </tr>\n",
              "    <tr>\n",
              "      <th>2342</th>\n",
              "      <td>2343</td>\n",
              "      <td>2.100844</td>\n",
              "      <td>1</td>\n",
              "    </tr>\n",
              "    <tr>\n",
              "      <th>2343</th>\n",
              "      <td>2344</td>\n",
              "      <td>2.085515</td>\n",
              "      <td>1</td>\n",
              "    </tr>\n",
              "    <tr>\n",
              "      <th>2344</th>\n",
              "      <td>2345</td>\n",
              "      <td>2.069147</td>\n",
              "      <td>1</td>\n",
              "    </tr>\n",
              "    <tr>\n",
              "      <th>2345</th>\n",
              "      <td>2346</td>\n",
              "      <td>2.038237</td>\n",
              "      <td>1</td>\n",
              "    </tr>\n",
              "    <tr>\n",
              "      <th>2346</th>\n",
              "      <td>2347</td>\n",
              "      <td>2.100844</td>\n",
              "      <td>1</td>\n",
              "    </tr>\n",
              "    <tr>\n",
              "      <th>2347</th>\n",
              "      <td>2348</td>\n",
              "      <td>2.138696</td>\n",
              "      <td>1</td>\n",
              "    </tr>\n",
              "    <tr>\n",
              "      <th>2348</th>\n",
              "      <td>2349</td>\n",
              "      <td>2.100844</td>\n",
              "      <td>1</td>\n",
              "    </tr>\n",
              "    <tr>\n",
              "      <th>2349</th>\n",
              "      <td>2350</td>\n",
              "      <td>2.073189</td>\n",
              "      <td>1</td>\n",
              "    </tr>\n",
              "    <tr>\n",
              "      <th>2350</th>\n",
              "      <td>2351</td>\n",
              "      <td>2.085515</td>\n",
              "      <td>1</td>\n",
              "    </tr>\n",
              "    <tr>\n",
              "      <th>2351</th>\n",
              "      <td>2352</td>\n",
              "      <td>2.214394</td>\n",
              "      <td>1</td>\n",
              "    </tr>\n",
              "    <tr>\n",
              "      <th>2352</th>\n",
              "      <td>2353</td>\n",
              "      <td>2.085515</td>\n",
              "      <td>1</td>\n",
              "    </tr>\n",
              "    <tr>\n",
              "      <th>2353</th>\n",
              "      <td>2354</td>\n",
              "      <td>2.152614</td>\n",
              "      <td>1</td>\n",
              "    </tr>\n",
              "    <tr>\n",
              "      <th>2354</th>\n",
              "      <td>2355</td>\n",
              "      <td>2.214394</td>\n",
              "      <td>1</td>\n",
              "    </tr>\n",
              "    <tr>\n",
              "      <th>2355</th>\n",
              "      <td>2356</td>\n",
              "      <td>2.109753</td>\n",
              "      <td>1</td>\n",
              "    </tr>\n",
              "    <tr>\n",
              "      <th>2356</th>\n",
              "      <td>2357</td>\n",
              "      <td>2.119519</td>\n",
              "      <td>1</td>\n",
              "    </tr>\n",
              "    <tr>\n",
              "      <th>2357</th>\n",
              "      <td>2358</td>\n",
              "      <td>2.038237</td>\n",
              "      <td>1</td>\n",
              "    </tr>\n",
              "    <tr>\n",
              "      <th>2358</th>\n",
              "      <td>2359</td>\n",
              "      <td>2.138731</td>\n",
              "      <td>1</td>\n",
              "    </tr>\n",
              "  </tbody>\n",
              "</table>\n",
              "</div>"
            ],
            "text/plain": [
              "         0  binary_crossentropy  binary_crossentropy_Outlier\n",
              "2206  2207             1.847616                            1\n",
              "2335  2336             1.898132                            1\n",
              "2336  2337             2.028026                            1\n",
              "2337  2338             2.085515                            1\n",
              "2338  2339             2.086570                            1\n",
              "2339  2340             2.038237                            1\n",
              "2340  2341             2.085515                            1\n",
              "2341  2342             2.065069                            1\n",
              "2342  2343             2.100844                            1\n",
              "2343  2344             2.085515                            1\n",
              "2344  2345             2.069147                            1\n",
              "2345  2346             2.038237                            1\n",
              "2346  2347             2.100844                            1\n",
              "2347  2348             2.138696                            1\n",
              "2348  2349             2.100844                            1\n",
              "2349  2350             2.073189                            1\n",
              "2350  2351             2.085515                            1\n",
              "2351  2352             2.214394                            1\n",
              "2352  2353             2.085515                            1\n",
              "2353  2354             2.152614                            1\n",
              "2354  2355             2.214394                            1\n",
              "2355  2356             2.109753                            1\n",
              "2356  2357             2.119519                            1\n",
              "2357  2358             2.038237                            1\n",
              "2358  2359             2.138731                            1"
            ]
          },
          "metadata": {
            "tags": []
          },
          "execution_count": 32
        }
      ]
    }
  ]
}