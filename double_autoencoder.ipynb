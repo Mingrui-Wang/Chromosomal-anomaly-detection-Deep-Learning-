{
  "nbformat": 4,
  "nbformat_minor": 0,
  "metadata": {
    "colab": {
      "name": "double autoencoder.ipynb",
      "provenance": [],
      "authorship_tag": "ABX9TyPX44OLkcaJKb2jSauQhzZY",
      "include_colab_link": true
    },
    "kernelspec": {
      "name": "python3",
      "display_name": "Python 3"
    },
    "accelerator": "GPU"
  },
  "cells": [
    {
      "cell_type": "markdown",
      "metadata": {
        "id": "view-in-github",
        "colab_type": "text"
      },
      "source": [
        "<a href=\"https://colab.research.google.com/github/Mingrui-Wang/Inverse-of-a-Matrix/blob/master/double_autoencoder.ipynb\" target=\"_parent\"><img src=\"https://colab.research.google.com/assets/colab-badge.svg\" alt=\"Open In Colab\"/></a>"
      ]
    },
    {
      "cell_type": "code",
      "metadata": {
        "id": "goGfhklrf0CA",
        "colab_type": "code",
        "colab": {
          "base_uri": "https://localhost:8080/",
          "height": 433
        },
        "outputId": "8a218646-5ce7-467e-c384-55024d4a0704"
      },
      "source": [
        "import os\n",
        "from google.colab import drive\n",
        "drive.mount('/content/drive')\n",
        "\n",
        "path = \"/content/drive/My Drive/暑期科研/\"\n",
        "\n",
        "os.chdir(path)\n",
        "os.listdir(path)"
      ],
      "execution_count": 26,
      "outputs": [
        {
          "output_type": "stream",
          "text": [
            "Drive already mounted at /content/drive; to attempt to forcibly remount, call drive.mount(\"/content/drive\", force_remount=True).\n"
          ],
          "name": "stdout"
        },
        {
          "output_type": "execute_result",
          "data": {
            "text/plain": [
              "['9total_y.npy',\n",
              " '9total_x.npy',\n",
              " 'normal_hard.npy',\n",
              " 'normal_hard_label.npy',\n",
              " 'N_A_H_label.npy',\n",
              " 'N_A_H.npy',\n",
              " 'Anomaly_label.npy',\n",
              " 'Anomaly.npy',\n",
              " 'chromosome_9_label.npy',\n",
              " 'chromosome_9.npy',\n",
              " 'chromosome_harddata_label.npy',\n",
              " 'chromosome_harddata.npy',\n",
              " '测试集_label.npy',\n",
              " '测试集.npy',\n",
              " '训练集_label.npy',\n",
              " '训练集.npy',\n",
              " '训练集500_label.npy',\n",
              " '训练集500.npy',\n",
              " '训练集400.npy',\n",
              " '训练集400_label.npy',\n",
              " '训练集300_label.npy',\n",
              " '训练集300.npy',\n",
              " 'my_model.h5']"
            ]
          },
          "metadata": {
            "tags": []
          },
          "execution_count": 26
        }
      ]
    },
    {
      "cell_type": "code",
      "metadata": {
        "id": "W-TGV021gJjk",
        "colab_type": "code",
        "colab": {
          "base_uri": "https://localhost:8080/",
          "height": 52
        },
        "outputId": "dff976bf-ce89-4526-c7df-1a1c6cf0a365"
      },
      "source": [
        "import glob\n",
        "\n",
        "import numpy as np\n",
        "import pandas as pd\n",
        "import matplotlib.pyplot as plt\n",
        "\n",
        "\n",
        "from keras.preprocessing import image\n",
        "from keras.models import Model\n",
        "from keras.optimizers import Adam\n",
        "from keras.callbacks import EarlyStopping\n",
        "from keras.layers import Input, Dense, Activation, BatchNormalization, Flatten, Conv2D\n",
        "from keras.layers import MaxPooling2D, Dropout, UpSampling2D\n",
        "import os\n",
        "\n",
        "x_train_savepath = './训练集500.npy'\n",
        "y_train_savepath = './训练集500_label.npy'\n",
        "\n",
        "print('-------------Load Datasets-----------------')\n",
        "x_train_save = np.load(x_train_savepath)\n",
        "y_train = np.load(y_train_savepath)\n",
        "\n",
        "x_train = np.reshape(x_train_save, (len(x_train_save), 150, 150,1))\n",
        "\n",
        "\n",
        "x_train = x_train.astype('float32')\n",
        "\n",
        "# x_train = x_train.reshape((len(x_train), np.prod(x_train.shape[1:])))\n",
        "# x_test = x_test.reshape((len(x_test), np.prod(x_test.shape[1:])))\n",
        "print(x_train.shape)\n",
        "\n",
        "#"
      ],
      "execution_count": 27,
      "outputs": [
        {
          "output_type": "stream",
          "text": [
            "-------------Load Datasets-----------------\n",
            "(843, 150, 150, 1)\n"
          ],
          "name": "stdout"
        }
      ]
    },
    {
      "cell_type": "code",
      "metadata": {
        "id": "7rZo-2ghk2by",
        "colab_type": "code",
        "colab": {
          "base_uri": "https://localhost:8080/",
          "height": 35
        },
        "outputId": "761a3791-8655-4e43-8d51-e243324d15ca"
      },
      "source": [
        "x_test = x_train[668:843]\n",
        "x_train_new = x_train[0:668]\n",
        "x_train = x_train_new\n",
        "len(x_test)"
      ],
      "execution_count": 28,
      "outputs": [
        {
          "output_type": "execute_result",
          "data": {
            "text/plain": [
              "175"
            ]
          },
          "metadata": {
            "tags": []
          },
          "execution_count": 28
        }
      ]
    },
    {
      "cell_type": "code",
      "metadata": {
        "id": "C0aKNkkWgZTr",
        "colab_type": "code",
        "colab": {
          "base_uri": "https://localhost:8080/",
          "height": 52
        },
        "outputId": "0b2b639a-10e5-477d-be2b-9e66ab151f86"
      },
      "source": [
        "import tensorflow as tf\n",
        "import os\n",
        "import numpy as np\n",
        "from matplotlib import pyplot as plt\n",
        "from tensorflow.keras.layers import Conv2D, BatchNormalization, Activation, MaxPool2D, Dropout, Flatten, Dense\n",
        "from tensorflow.keras import Model\n",
        "\n",
        "np.set_printoptions(threshold=np.inf)\n",
        "\n",
        "x_train, x_test = x_train / 255.0, x_test / 255.0\n",
        "\n",
        "x_train = x_train.reshape(x_train.shape[0], 150, 150, 1)  # 给数据增加一个维度，使数据和网络结构匹配\n",
        "x_test = x_test.reshape(x_test.shape[0], 150, 150, 1)  # 给数据增加一个维度，使数据和网络结构匹配\n",
        "\n",
        "\n",
        "print(\"x_train.shape\", x_train.shape)\n",
        "print(\"x_test.shape\", x_test.shape)"
      ],
      "execution_count": 29,
      "outputs": [
        {
          "output_type": "stream",
          "text": [
            "x_train.shape (668, 150, 150, 1)\n",
            "x_test.shape (175, 150, 150, 1)\n"
          ],
          "name": "stdout"
        }
      ]
    },
    {
      "cell_type": "code",
      "metadata": {
        "id": "SPQ4cPrwgFig",
        "colab_type": "code",
        "colab": {}
      },
      "source": [
        "class Autoencoder():\n",
        "    def __init__(self):\n",
        "\n",
        "        self.img_shape = (150,150,1)\n",
        "\n",
        "        optimizer = Adam(lr=0.001)\n",
        "\n",
        "        self.autoencoder_model = self.build_model()\n",
        "        self.autoencoder_model.compile(loss='binary_crossentropy', optimizer=optimizer)\n",
        "        self.autoencoder_model.summary()\n",
        "\n",
        "    def build_model(self):\n",
        "        input_layer = Input(shape=self.img_shape)\n",
        "\n",
        "        # encoder\n",
        "        h = Conv2D(64, (3, 3), activation='relu', padding='same')(input_layer)\n",
        "        h = MaxPooling2D((2, 2), padding='same')(h)\n",
        "        h = Conv2D(64, (3, 3), activation='relu', padding='same')(h)\n",
        "        h = MaxPooling2D((3, 3), padding='same')(h)\n",
        "\n",
        "        # decoder\n",
        "        h = Conv2D(64, (3, 3), activation='relu', padding='same')(h)\n",
        "        h = UpSampling2D((3, 3))(h)\n",
        "        h = Conv2D(64, (3, 3), activation='relu', padding='same')(h)\n",
        "        h = UpSampling2D((2, 2))(h)\n",
        "\n",
        "        output_layer = Conv2D(1, (3, 3), activation='sigmoid', padding='same')(h)\n",
        "\n",
        "        return Model(input_layer, output_layer)\n",
        "\n",
        "    def train_model(self, x_train, y_train, x_test, y_test, epochs, batch_size):\n",
        "        early_stopping = EarlyStopping(monitor='val_loss',\n",
        "                                       min_delta=0,\n",
        "                                       patience=5,\n",
        "                                       verbose=1,\n",
        "                                       mode='auto')\n",
        "        history = self.autoencoder_model.fit(x_train, x_train,\n",
        "                                             batch_size=batch_size,\n",
        "                                             epochs=epochs,\n",
        "                                             validation_data=(x_test, x_test),\n",
        "                                             callbacks=[early_stopping])\n",
        "        \n",
        "        file = self.autoencoder_model.save_weights('my_model.h5')\n",
        "\n",
        "        plt.plot(history.history['loss'])\n",
        "        plt.plot(history.history['val_loss'])\n",
        "        plt.title('Model loss')\n",
        "        plt.ylabel('Loss')\n",
        "        plt.xlabel('Epoch')\n",
        "        plt.legend(['Train', 'Test'], loc='upper left')\n",
        "        plt.show()\n",
        "\n",
        "    def eval_model(self, x_test):\n",
        "        preds = self.autoencoder_model.predict(x_test)\n",
        "        return preds\n"
      ],
      "execution_count": 5,
      "outputs": []
    },
    {
      "cell_type": "code",
      "metadata": {
        "id": "LPwc2DopgfjW",
        "colab_type": "code",
        "colab": {
          "base_uri": "https://localhost:8080/",
          "height": 1000
        },
        "outputId": "3fad9bea-c09c-47ef-9d9c-ca233b01355f"
      },
      "source": [
        "ae_1 = Autoencoder()\n",
        "ae_1.train_model(x_train, x_train, x_test, x_test, epochs=20, batch_size=3)"
      ],
      "execution_count": 6,
      "outputs": [
        {
          "output_type": "stream",
          "text": [
            "Model: \"functional_1\"\n",
            "_________________________________________________________________\n",
            "Layer (type)                 Output Shape              Param #   \n",
            "=================================================================\n",
            "input_1 (InputLayer)         [(None, 150, 150, 1)]     0         \n",
            "_________________________________________________________________\n",
            "conv2d (Conv2D)              (None, 150, 150, 64)      640       \n",
            "_________________________________________________________________\n",
            "max_pooling2d (MaxPooling2D) (None, 75, 75, 64)        0         \n",
            "_________________________________________________________________\n",
            "conv2d_1 (Conv2D)            (None, 75, 75, 64)        36928     \n",
            "_________________________________________________________________\n",
            "max_pooling2d_1 (MaxPooling2 (None, 25, 25, 64)        0         \n",
            "_________________________________________________________________\n",
            "conv2d_2 (Conv2D)            (None, 25, 25, 64)        36928     \n",
            "_________________________________________________________________\n",
            "up_sampling2d (UpSampling2D) (None, 75, 75, 64)        0         \n",
            "_________________________________________________________________\n",
            "conv2d_3 (Conv2D)            (None, 75, 75, 64)        36928     \n",
            "_________________________________________________________________\n",
            "up_sampling2d_1 (UpSampling2 (None, 150, 150, 64)      0         \n",
            "_________________________________________________________________\n",
            "conv2d_4 (Conv2D)            (None, 150, 150, 1)       577       \n",
            "=================================================================\n",
            "Total params: 112,001\n",
            "Trainable params: 112,001\n",
            "Non-trainable params: 0\n",
            "_________________________________________________________________\n",
            "Epoch 1/20\n",
            "223/223 [==============================] - 5s 22ms/step - loss: 0.0570 - val_loss: 0.0243\n",
            "Epoch 2/20\n",
            "223/223 [==============================] - 4s 19ms/step - loss: 0.0236 - val_loss: 0.0242\n",
            "Epoch 3/20\n",
            "223/223 [==============================] - 4s 19ms/step - loss: 0.0235 - val_loss: 0.0242\n",
            "Epoch 4/20\n",
            "223/223 [==============================] - 4s 19ms/step - loss: 0.0235 - val_loss: 0.0242\n",
            "Epoch 5/20\n",
            "223/223 [==============================] - 4s 19ms/step - loss: 0.0235 - val_loss: 0.0242\n",
            "Epoch 6/20\n",
            "223/223 [==============================] - 4s 19ms/step - loss: 0.0235 - val_loss: 0.0242\n",
            "Epoch 7/20\n",
            "223/223 [==============================] - 4s 19ms/step - loss: 0.0234 - val_loss: 0.0241\n",
            "Epoch 8/20\n",
            "223/223 [==============================] - 4s 19ms/step - loss: 0.0234 - val_loss: 0.0241\n",
            "Epoch 9/20\n",
            "223/223 [==============================] - 4s 19ms/step - loss: 0.0234 - val_loss: 0.0241\n",
            "Epoch 10/20\n",
            "223/223 [==============================] - 4s 19ms/step - loss: 0.0234 - val_loss: 0.0241\n",
            "Epoch 11/20\n",
            "223/223 [==============================] - 4s 19ms/step - loss: 0.0234 - val_loss: 0.0241\n",
            "Epoch 12/20\n",
            "223/223 [==============================] - 4s 19ms/step - loss: 0.0234 - val_loss: 0.0241\n",
            "Epoch 13/20\n",
            "223/223 [==============================] - 4s 19ms/step - loss: 0.0234 - val_loss: 0.0241\n",
            "Epoch 14/20\n",
            "223/223 [==============================] - 4s 19ms/step - loss: 0.0234 - val_loss: 0.0241\n",
            "Epoch 15/20\n",
            "223/223 [==============================] - 4s 19ms/step - loss: 0.0234 - val_loss: 0.0241\n",
            "Epoch 16/20\n",
            "223/223 [==============================] - 4s 19ms/step - loss: 0.0234 - val_loss: 0.0241\n",
            "Epoch 17/20\n",
            "223/223 [==============================] - 4s 19ms/step - loss: 0.0234 - val_loss: 0.0241\n",
            "Epoch 18/20\n",
            "223/223 [==============================] - 4s 19ms/step - loss: 0.0234 - val_loss: 0.0241\n",
            "Epoch 19/20\n",
            "223/223 [==============================] - 4s 19ms/step - loss: 0.0234 - val_loss: 0.0241\n",
            "Epoch 20/20\n",
            "223/223 [==============================] - 4s 19ms/step - loss: 0.0234 - val_loss: 0.0241\n"
          ],
          "name": "stdout"
        },
        {
          "output_type": "display_data",
          "data": {
            "image/png": "[encoded data removed]",
            "text/plain": [
              "<Figure size 432x288 with 1 Axes>"
            ]
          },
          "metadata": {
            "tags": [],
            "needs_background": "light"
          }
        }
      ]
    },
    {
      "cell_type": "code",
      "metadata": {
        "id": "e-AvHqMhhMri",
        "colab_type": "code",
        "colab": {}
      },
      "source": [
        "decoded_test = ae_1.eval_model(x_test)\n",
        "### get the error term of all testing dataset images\n",
        "from sklearn.preprocessing import StandardScaler, MinMaxScaler\n",
        "scaler = MinMaxScaler()\n",
        "#scale it\n",
        "scaled_input_test = scaler.fit_transform(x_test.reshape(-1,22500))\n",
        "#scale it\n",
        "scaled_output_test = scaler.fit_transform(decoded_test.reshape(-1,22500))"
      ],
      "execution_count": 7,
      "outputs": []
    },
    {
      "cell_type": "code",
      "metadata": {
        "id": "1C3t5iXirSZf",
        "colab_type": "code",
        "colab": {}
      },
      "source": [
        "### get the error term of all training set images\n",
        "\n",
        "# Firstly, we get the decoder image of training set.\n",
        "decoded_train = ae_1.eval_model(x_train)\n",
        "\n",
        "from sklearn.preprocessing import StandardScaler, MinMaxScaler\n",
        "scaler = MinMaxScaler()\n",
        "#scale it\n",
        "scaled_input_train = scaler.fit_transform(x_train.reshape(-1,22500))\n",
        "#scale it\n",
        "scaled_output_train = scaler.fit_transform(decoded_train.reshape(-1,22500))"
      ],
      "execution_count": 8,
      "outputs": []
    },
    {
      "cell_type": "code",
      "metadata": {
        "id": "1WN94mmkhjsD",
        "colab_type": "code",
        "colab": {}
      },
      "source": [
        "import pandas as pd\n",
        "sequences = range(1,844)\n",
        "from keras import losses\n",
        "x = losses.binary_crossentropy(scaled_input_train,scaled_output_train)\n",
        "y = losses.binary_crossentropy(scaled_input_test,scaled_output_test)"
      ],
      "execution_count": 9,
      "outputs": []
    },
    {
      "cell_type": "code",
      "metadata": {
        "id": "5KK4ycXwhqzo",
        "colab_type": "code",
        "colab": {
          "base_uri": "https://localhost:8080/",
          "height": 415
        },
        "outputId": "144f2381-40cc-483f-d185-b1935e69bbf2"
      },
      "source": [
        "seqs_ds = pd.DataFrame(sequences)\n",
        "mse = np.append(x,y)\n",
        "seqs_ds['binary_crossentropy'] = mse\n",
        "seqs_ds"
      ],
      "execution_count": 10,
      "outputs": [
        {
          "output_type": "execute_result",
          "data": {
            "text/html": [
              "<div>\n",
              "<style scoped>\n",
              "    .dataframe tbody tr th:only-of-type {\n",
              "        vertical-align: middle;\n",
              "    }\n",
              "\n",
              "    .dataframe tbody tr th {\n",
              "        vertical-align: top;\n",
              "    }\n",
              "\n",
              "    .dataframe thead th {\n",
              "        text-align: right;\n",
              "    }\n",
              "</style>\n",
              "<table border=\"1\" class=\"dataframe\">\n",
              "  <thead>\n",
              "    <tr style=\"text-align: right;\">\n",
              "      <th></th>\n",
              "      <th>0</th>\n",
              "      <th>binary_crossentropy</th>\n",
              "    </tr>\n",
              "  </thead>\n",
              "  <tbody>\n",
              "    <tr>\n",
              "      <th>0</th>\n",
              "      <td>1</td>\n",
              "      <td>1.293572</td>\n",
              "    </tr>\n",
              "    <tr>\n",
              "      <th>1</th>\n",
              "      <td>2</td>\n",
              "      <td>1.229438</td>\n",
              "    </tr>\n",
              "    <tr>\n",
              "      <th>2</th>\n",
              "      <td>3</td>\n",
              "      <td>1.166682</td>\n",
              "    </tr>\n",
              "    <tr>\n",
              "      <th>3</th>\n",
              "      <td>4</td>\n",
              "      <td>1.172451</td>\n",
              "    </tr>\n",
              "    <tr>\n",
              "      <th>4</th>\n",
              "      <td>5</td>\n",
              "      <td>1.242020</td>\n",
              "    </tr>\n",
              "    <tr>\n",
              "      <th>...</th>\n",
              "      <td>...</td>\n",
              "      <td>...</td>\n",
              "    </tr>\n",
              "    <tr>\n",
              "      <th>838</th>\n",
              "      <td>839</td>\n",
              "      <td>2.376131</td>\n",
              "    </tr>\n",
              "    <tr>\n",
              "      <th>839</th>\n",
              "      <td>840</td>\n",
              "      <td>2.305871</td>\n",
              "    </tr>\n",
              "    <tr>\n",
              "      <th>840</th>\n",
              "      <td>841</td>\n",
              "      <td>2.399316</td>\n",
              "    </tr>\n",
              "    <tr>\n",
              "      <th>841</th>\n",
              "      <td>842</td>\n",
              "      <td>2.544230</td>\n",
              "    </tr>\n",
              "    <tr>\n",
              "      <th>842</th>\n",
              "      <td>843</td>\n",
              "      <td>2.364244</td>\n",
              "    </tr>\n",
              "  </tbody>\n",
              "</table>\n",
              "<p>843 rows × 2 columns</p>\n",
              "</div>"
            ],
            "text/plain": [
              "       0  binary_crossentropy\n",
              "0      1             1.293572\n",
              "1      2             1.229438\n",
              "2      3             1.166682\n",
              "3      4             1.172451\n",
              "4      5             1.242020\n",
              "..   ...                  ...\n",
              "838  839             2.376131\n",
              "839  840             2.305871\n",
              "840  841             2.399316\n",
              "841  842             2.544230\n",
              "842  843             2.364244\n",
              "\n",
              "[843 rows x 2 columns]"
            ]
          },
          "metadata": {
            "tags": []
          },
          "execution_count": 10
        }
      ]
    },
    {
      "cell_type": "code",
      "metadata": {
        "id": "K6l-DtxyiElY",
        "colab_type": "code",
        "colab": {
          "base_uri": "https://localhost:8080/",
          "height": 35
        },
        "outputId": "5f4e329a-a475-4c8e-e22c-0d5702dfb0d9"
      },
      "source": [
        "threshold = len(x_train)/(len(x_train)+len(x_test))\n",
        "threshold"
      ],
      "execution_count": 11,
      "outputs": [
        {
          "output_type": "execute_result",
          "data": {
            "text/plain": [
              "0.7924080664294187"
            ]
          },
          "metadata": {
            "tags": []
          },
          "execution_count": 11
        }
      ]
    },
    {
      "cell_type": "code",
      "metadata": {
        "id": "z-2YYBEOh-sW",
        "colab_type": "code",
        "colab": {
          "base_uri": "https://localhost:8080/",
          "height": 35
        },
        "outputId": "e1db4671-7468-4c4c-d100-c71679ceb2f9"
      },
      "source": [
        "binary_crossentropy_threshold = np.quantile(seqs_ds['binary_crossentropy'], threshold)\n",
        "print(f'binary_crossentropy threshhold:{binary_crossentropy_threshold}')"
      ],
      "execution_count": 12,
      "outputs": [
        {
          "output_type": "stream",
          "text": [
            "binary_crossentropy threshhold:1.6142469131225456\n"
          ],
          "name": "stdout"
        }
      ]
    },
    {
      "cell_type": "code",
      "metadata": {
        "id": "8rBpLSSkjSZ0",
        "colab_type": "code",
        "colab": {
          "base_uri": "https://localhost:8080/",
          "height": 433
        },
        "outputId": "4db2d6c3-dfc8-4f57-ec28-80aee5c1b7dc"
      },
      "source": [
        "seqs_ds['binary_crossentropy_Outlier'] = 0\n",
        "seqs_ds.loc[seqs_ds['binary_crossentropy'] > binary_crossentropy_threshold, 'binary_crossentropy_Outlier'] = 1\n",
        "print(f\"Num of binary_crossentropy outlier:{seqs_ds['binary_crossentropy_Outlier'].sum()}\")\n",
        "\n",
        "seqs_ds[seqs_ds['binary_crossentropy_Outlier']==1]"
      ],
      "execution_count": 13,
      "outputs": [
        {
          "output_type": "stream",
          "text": [
            "Num of binary_crossentropy outlier:175\n"
          ],
          "name": "stdout"
        },
        {
          "output_type": "execute_result",
          "data": {
            "text/html": [
              "<div>\n",
              "<style scoped>\n",
              "    .dataframe tbody tr th:only-of-type {\n",
              "        vertical-align: middle;\n",
              "    }\n",
              "\n",
              "    .dataframe tbody tr th {\n",
              "        vertical-align: top;\n",
              "    }\n",
              "\n",
              "    .dataframe thead th {\n",
              "        text-align: right;\n",
              "    }\n",
              "</style>\n",
              "<table border=\"1\" class=\"dataframe\">\n",
              "  <thead>\n",
              "    <tr style=\"text-align: right;\">\n",
              "      <th></th>\n",
              "      <th>0</th>\n",
              "      <th>binary_crossentropy</th>\n",
              "      <th>binary_crossentropy_Outlier</th>\n",
              "    </tr>\n",
              "  </thead>\n",
              "  <tbody>\n",
              "    <tr>\n",
              "      <th>668</th>\n",
              "      <td>669</td>\n",
              "      <td>2.303293</td>\n",
              "      <td>1</td>\n",
              "    </tr>\n",
              "    <tr>\n",
              "      <th>669</th>\n",
              "      <td>670</td>\n",
              "      <td>2.633298</td>\n",
              "      <td>1</td>\n",
              "    </tr>\n",
              "    <tr>\n",
              "      <th>670</th>\n",
              "      <td>671</td>\n",
              "      <td>2.411116</td>\n",
              "      <td>1</td>\n",
              "    </tr>\n",
              "    <tr>\n",
              "      <th>671</th>\n",
              "      <td>672</td>\n",
              "      <td>2.373261</td>\n",
              "      <td>1</td>\n",
              "    </tr>\n",
              "    <tr>\n",
              "      <th>672</th>\n",
              "      <td>673</td>\n",
              "      <td>2.670181</td>\n",
              "      <td>1</td>\n",
              "    </tr>\n",
              "    <tr>\n",
              "      <th>...</th>\n",
              "      <td>...</td>\n",
              "      <td>...</td>\n",
              "      <td>...</td>\n",
              "    </tr>\n",
              "    <tr>\n",
              "      <th>838</th>\n",
              "      <td>839</td>\n",
              "      <td>2.376131</td>\n",
              "      <td>1</td>\n",
              "    </tr>\n",
              "    <tr>\n",
              "      <th>839</th>\n",
              "      <td>840</td>\n",
              "      <td>2.305871</td>\n",
              "      <td>1</td>\n",
              "    </tr>\n",
              "    <tr>\n",
              "      <th>840</th>\n",
              "      <td>841</td>\n",
              "      <td>2.399316</td>\n",
              "      <td>1</td>\n",
              "    </tr>\n",
              "    <tr>\n",
              "      <th>841</th>\n",
              "      <td>842</td>\n",
              "      <td>2.544230</td>\n",
              "      <td>1</td>\n",
              "    </tr>\n",
              "    <tr>\n",
              "      <th>842</th>\n",
              "      <td>843</td>\n",
              "      <td>2.364244</td>\n",
              "      <td>1</td>\n",
              "    </tr>\n",
              "  </tbody>\n",
              "</table>\n",
              "<p>175 rows × 3 columns</p>\n",
              "</div>"
            ],
            "text/plain": [
              "       0  binary_crossentropy  binary_crossentropy_Outlier\n",
              "668  669             2.303293                            1\n",
              "669  670             2.633298                            1\n",
              "670  671             2.411116                            1\n",
              "671  672             2.373261                            1\n",
              "672  673             2.670181                            1\n",
              "..   ...                  ...                          ...\n",
              "838  839             2.376131                            1\n",
              "839  840             2.305871                            1\n",
              "840  841             2.399316                            1\n",
              "841  842             2.544230                            1\n",
              "842  843             2.364244                            1\n",
              "\n",
              "[175 rows x 3 columns]"
            ]
          },
          "metadata": {
            "tags": []
          },
          "execution_count": 13
        }
      ]
    },
    {
      "cell_type": "code",
      "metadata": {
        "id": "gkkCW5BzgUoC",
        "colab_type": "code",
        "colab": {
          "base_uri": "https://localhost:8080/",
          "height": 35
        },
        "outputId": "58cf7f4c-744d-468a-d558-48fea60ff2a0"
      },
      "source": [
        "hard_data_detection_acc = len(seqs_ds[seqs_ds['binary_crossentropy_Outlier']==1])/175\n",
        "print(hard_data_detection_acc)"
      ],
      "execution_count": 14,
      "outputs": [
        {
          "output_type": "stream",
          "text": [
            "1.0\n"
          ],
          "name": "stdout"
        }
      ]
    },
    {
      "cell_type": "code",
      "metadata": {
        "id": "FgCP3hW_746H",
        "colab_type": "code",
        "colab": {
          "base_uri": "https://localhost:8080/",
          "height": 52
        },
        "outputId": "1de9e40c-962c-469e-821a-378f09c39167"
      },
      "source": [
        "import glob\n",
        "\n",
        "import numpy as np\n",
        "import pandas as pd\n",
        "import matplotlib.pyplot as plt\n",
        "\n",
        "\n",
        "from keras.preprocessing import image\n",
        "from keras.models import Model\n",
        "from keras.optimizers import Adam\n",
        "from keras.callbacks import EarlyStopping\n",
        "from keras.layers import Input, Dense, Activation, BatchNormalization, Flatten, Conv2D\n",
        "from keras.layers import MaxPooling2D, Dropout, UpSampling2D\n",
        "import os\n",
        "\n",
        "x_train_savepath = './训练集500.npy'\n",
        "y_train_savepath = './训练集500_label.npy'\n",
        "\n",
        "print('-------------Load Datasets-----------------')\n",
        "x_train_save = np.load(x_train_savepath)\n",
        "y_train = np.load(y_train_savepath)\n",
        "\n",
        "x_train = np.reshape(x_train_save, (len(x_train_save), 150, 150,1))\n",
        "\n",
        "\n",
        "x_train = x_train.astype('float32')\n",
        "\n",
        "# x_train = x_train.reshape((len(x_train), np.prod(x_train.shape[1:])))\n",
        "# x_test = x_test.reshape((len(x_test), np.prod(x_test.shape[1:])))\n",
        "print(x_train.shape)\n",
        "\n",
        "#"
      ],
      "execution_count": 56,
      "outputs": [
        {
          "output_type": "stream",
          "text": [
            "-------------Load Datasets-----------------\n",
            "(843, 150, 150, 1)\n"
          ],
          "name": "stdout"
        }
      ]
    },
    {
      "cell_type": "code",
      "metadata": {
        "id": "IZPGzjEzkBky",
        "colab_type": "code",
        "colab": {
          "base_uri": "https://localhost:8080/",
          "height": 35
        },
        "outputId": "7717dc60-62bc-474e-f090-8c944db51910"
      },
      "source": [
        "x_test = x_train[500:668]\n",
        "x_train_new = x_train[0:500]\n",
        "x_train = x_train_new\n",
        "len(x_test)"
      ],
      "execution_count": 57,
      "outputs": [
        {
          "output_type": "execute_result",
          "data": {
            "text/plain": [
              "168"
            ]
          },
          "metadata": {
            "tags": []
          },
          "execution_count": 57
        }
      ]
    },
    {
      "cell_type": "code",
      "metadata": {
        "id": "HpicnGbl3qdq",
        "colab_type": "code",
        "colab": {}
      },
      "source": [
        "class Autoencoder_2():\n",
        "    def __init__(self):\n",
        "\n",
        "        self.img_shape = (150,150,1)\n",
        "\n",
        "        optimizer = Adam(lr=0.001)\n",
        "\n",
        "        self.autoencoder_model = self.build_model()\n",
        "        self.autoencoder_model.compile(loss='binary_crossentropy', optimizer=optimizer)\n",
        "        self.autoencoder_model.summary()\n",
        "\n",
        "    def build_model(self):\n",
        "        input_layer = Input(shape=self.img_shape)\n",
        "\n",
        "        # encoder\n",
        "        h = Conv2D(64, (3, 3), activation='relu', padding='same')(input_layer)\n",
        "        h = MaxPooling2D((2, 2), padding='same')(h)\n",
        "        h = Conv2D(64, (3, 3), activation='relu', padding='same')(h)\n",
        "        h = MaxPooling2D((3, 3), padding='same')(h)\n",
        "\n",
        "        # decoder\n",
        "        h = Conv2D(64, (3, 3), activation='relu', padding='same')(h)\n",
        "        h = UpSampling2D((3, 3))(h)\n",
        "        h = Conv2D(64, (3, 3), activation='relu', padding='same')(h)\n",
        "        h = UpSampling2D((2, 2))(h)\n",
        "\n",
        "        output_layer = Conv2D(1, (3, 3), activation='sigmoid', padding='same')(h)\n",
        "\n",
        "        return Model(input_layer, output_layer)\n",
        "\n",
        "    def train_model(self, x_train, y_train, x_test, y_test, epochs, batch_size):\n",
        "        early_stopping = EarlyStopping(monitor='val_loss',\n",
        "                                       min_delta=0,\n",
        "                                       patience=5,\n",
        "                                       verbose=1,\n",
        "                                       mode='auto')\n",
        "        history = self.autoencoder_model.fit(x_train, x_train,\n",
        "                                             batch_size=batch_size,\n",
        "                                             epochs=epochs,\n",
        "                                             validation_data=(x_test, x_test),\n",
        "                                             callbacks=[early_stopping])\n",
        "        \n",
        "        file = self.autoencoder_model.save_weights('my_model.h5')\n",
        "\n",
        "        plt.plot(history.history['loss'])\n",
        "        plt.plot(history.history['val_loss'])\n",
        "        plt.title('Model loss')\n",
        "        plt.ylabel('Loss')\n",
        "        plt.xlabel('Epoch')\n",
        "        plt.legend(['Train', 'Test'], loc='upper left')\n",
        "        plt.show()\n",
        "\n",
        "    def eval_model(self, x_test):\n",
        "        preds = self.autoencoder_model.predict(x_test)\n",
        "        return preds\n"
      ],
      "execution_count": 58,
      "outputs": []
    },
    {
      "cell_type": "code",
      "metadata": {
        "id": "Rt4vJ8yyk0Sn",
        "colab_type": "code",
        "colab": {
          "base_uri": "https://localhost:8080/",
          "height": 1000
        },
        "outputId": "57ba0c23-61ca-42e2-e14f-c0cb56fda7ff"
      },
      "source": [
        "ae_2 = Autoencoder_2()\n",
        "ae_2.train_model(x_train, x_train, x_test, x_test, epochs=10, batch_size=4)"
      ],
      "execution_count": 59,
      "outputs": [
        {
          "output_type": "stream",
          "text": [
            "Model: \"functional_11\"\n",
            "_________________________________________________________________\n",
            "Layer (type)                 Output Shape              Param #   \n",
            "=================================================================\n",
            "input_6 (InputLayer)         [(None, 150, 150, 1)]     0         \n",
            "_________________________________________________________________\n",
            "conv2d_25 (Conv2D)           (None, 150, 150, 64)      640       \n",
            "_________________________________________________________________\n",
            "max_pooling2d_10 (MaxPooling (None, 75, 75, 64)        0         \n",
            "_________________________________________________________________\n",
            "conv2d_26 (Conv2D)           (None, 75, 75, 64)        36928     \n",
            "_________________________________________________________________\n",
            "max_pooling2d_11 (MaxPooling (None, 25, 25, 64)        0         \n",
            "_________________________________________________________________\n",
            "conv2d_27 (Conv2D)           (None, 25, 25, 64)        36928     \n",
            "_________________________________________________________________\n",
            "up_sampling2d_10 (UpSampling (None, 75, 75, 64)        0         \n",
            "_________________________________________________________________\n",
            "conv2d_28 (Conv2D)           (None, 75, 75, 64)        36928     \n",
            "_________________________________________________________________\n",
            "up_sampling2d_11 (UpSampling (None, 150, 150, 64)      0         \n",
            "_________________________________________________________________\n",
            "conv2d_29 (Conv2D)           (None, 150, 150, 1)       577       \n",
            "=================================================================\n",
            "Total params: 112,001\n",
            "Trainable params: 112,001\n",
            "Non-trainable params: 0\n",
            "_________________________________________________________________\n",
            "Epoch 1/10\n",
            "  1/125 [..............................] - ETA: 0s - loss: 0.6774WARNING:tensorflow:Callbacks method `on_train_batch_end` is slow compared to the batch time (batch time: 0.0072s vs `on_train_batch_end` time: 0.0236s). Check your callbacks.\n",
            "125/125 [==============================] - 3s 26ms/step - loss: 0.1665 - val_loss: 0.2041\n",
            "Epoch 2/10\n",
            "125/125 [==============================] - 3s 24ms/step - loss: 0.1108 - val_loss: 0.2034\n",
            "Epoch 3/10\n",
            "125/125 [==============================] - 3s 24ms/step - loss: 0.1098 - val_loss: 0.2043\n",
            "Epoch 4/10\n",
            "125/125 [==============================] - 3s 24ms/step - loss: 0.1095 - val_loss: 0.2018\n",
            "Epoch 5/10\n",
            "125/125 [==============================] - 3s 24ms/step - loss: 0.1093 - val_loss: 0.2024\n",
            "Epoch 6/10\n",
            "125/125 [==============================] - 3s 24ms/step - loss: 0.1093 - val_loss: 0.2013\n",
            "Epoch 7/10\n",
            "125/125 [==============================] - 3s 24ms/step - loss: 0.1091 - val_loss: 0.2014\n",
            "Epoch 8/10\n",
            "125/125 [==============================] - 3s 24ms/step - loss: 0.1091 - val_loss: 0.2010\n",
            "Epoch 9/10\n",
            "125/125 [==============================] - 3s 24ms/step - loss: 0.1091 - val_loss: 0.2013\n",
            "Epoch 10/10\n",
            "125/125 [==============================] - 3s 24ms/step - loss: 0.1090 - val_loss: 0.2006\n"
          ],
          "name": "stdout"
        },
        {
          "output_type": "display_data",
          "data": {
            "image/png": "[encoded data removed]",
            "text/plain": [
              "<Figure size 432x288 with 1 Axes>"
            ]
          },
          "metadata": {
            "tags": [],
            "needs_background": "light"
          }
        }
      ]
    },
    {
      "cell_type": "code",
      "metadata": {
        "id": "WUlqSumQlKph",
        "colab_type": "code",
        "colab": {}
      },
      "source": [
        "decoded_test = ae_2.eval_model(x_test)\n",
        "### get the error term of all testing dataset images\n",
        "from sklearn.preprocessing import StandardScaler, MinMaxScaler\n",
        "scaler = MinMaxScaler()\n",
        "#scale it\n",
        "scaled_input_test = scaler.fit_transform(x_test.reshape(-1,22500))\n",
        "#scale it\n",
        "scaled_output_test = scaler.fit_transform(decoded_test.reshape(-1,22500))"
      ],
      "execution_count": 60,
      "outputs": []
    },
    {
      "cell_type": "code",
      "metadata": {
        "id": "dyy54HwVlPvV",
        "colab_type": "code",
        "colab": {}
      },
      "source": [
        "### get the error term of all training set images\n",
        "\n",
        "# Firstly, we get the decoder image of training set.\n",
        "decoded_train = ae_2.eval_model(x_train)\n",
        "\n",
        "from sklearn.preprocessing import StandardScaler, MinMaxScaler\n",
        "scaler = MinMaxScaler()\n",
        "#scale it\n",
        "scaled_input_train = scaler.fit_transform(x_train.reshape(-1,22500))\n",
        "#scale it\n",
        "scaled_output_train = scaler.fit_transform(decoded_train.reshape(-1,22500))"
      ],
      "execution_count": 61,
      "outputs": []
    },
    {
      "cell_type": "code",
      "metadata": {
        "id": "WpX_oEImlhbG",
        "colab_type": "code",
        "colab": {}
      },
      "source": [
        "import pandas as pd\n",
        "sequences = range(1,669)\n",
        "from keras import losses\n",
        "x = losses.binary_crossentropy(scaled_input_train,scaled_output_train)\n",
        "y = losses.binary_crossentropy(scaled_input_test,scaled_output_test)"
      ],
      "execution_count": 63,
      "outputs": []
    },
    {
      "cell_type": "code",
      "metadata": {
        "id": "SPJtMwCvlogv",
        "colab_type": "code",
        "colab": {
          "base_uri": "https://localhost:8080/",
          "height": 415
        },
        "outputId": "e1cb37d7-146e-4bf3-ccdb-48f9ffa513e7"
      },
      "source": [
        "seqs_ds = pd.DataFrame(sequences)\n",
        "mse = np.append(x,y)\n",
        "seqs_ds['binary_crossentropy'] = mse\n",
        "seqs_ds"
      ],
      "execution_count": 64,
      "outputs": [
        {
          "output_type": "execute_result",
          "data": {
            "text/html": [
              "<div>\n",
              "<style scoped>\n",
              "    .dataframe tbody tr th:only-of-type {\n",
              "        vertical-align: middle;\n",
              "    }\n",
              "\n",
              "    .dataframe tbody tr th {\n",
              "        vertical-align: top;\n",
              "    }\n",
              "\n",
              "    .dataframe thead th {\n",
              "        text-align: right;\n",
              "    }\n",
              "</style>\n",
              "<table border=\"1\" class=\"dataframe\">\n",
              "  <thead>\n",
              "    <tr style=\"text-align: right;\">\n",
              "      <th></th>\n",
              "      <th>0</th>\n",
              "      <th>binary_crossentropy</th>\n",
              "    </tr>\n",
              "  </thead>\n",
              "  <tbody>\n",
              "    <tr>\n",
              "      <th>0</th>\n",
              "      <td>1</td>\n",
              "      <td>0.983718</td>\n",
              "    </tr>\n",
              "    <tr>\n",
              "      <th>1</th>\n",
              "      <td>2</td>\n",
              "      <td>0.905509</td>\n",
              "    </tr>\n",
              "    <tr>\n",
              "      <th>2</th>\n",
              "      <td>3</td>\n",
              "      <td>0.939022</td>\n",
              "    </tr>\n",
              "    <tr>\n",
              "      <th>3</th>\n",
              "      <td>4</td>\n",
              "      <td>0.933644</td>\n",
              "    </tr>\n",
              "    <tr>\n",
              "      <th>4</th>\n",
              "      <td>5</td>\n",
              "      <td>0.862003</td>\n",
              "    </tr>\n",
              "    <tr>\n",
              "      <th>...</th>\n",
              "      <td>...</td>\n",
              "      <td>...</td>\n",
              "    </tr>\n",
              "    <tr>\n",
              "      <th>663</th>\n",
              "      <td>664</td>\n",
              "      <td>1.726189</td>\n",
              "    </tr>\n",
              "    <tr>\n",
              "      <th>664</th>\n",
              "      <td>665</td>\n",
              "      <td>1.688992</td>\n",
              "    </tr>\n",
              "    <tr>\n",
              "      <th>665</th>\n",
              "      <td>666</td>\n",
              "      <td>1.568315</td>\n",
              "    </tr>\n",
              "    <tr>\n",
              "      <th>666</th>\n",
              "      <td>667</td>\n",
              "      <td>1.544441</td>\n",
              "    </tr>\n",
              "    <tr>\n",
              "      <th>667</th>\n",
              "      <td>668</td>\n",
              "      <td>1.610515</td>\n",
              "    </tr>\n",
              "  </tbody>\n",
              "</table>\n",
              "<p>668 rows × 2 columns</p>\n",
              "</div>"
            ],
            "text/plain": [
              "       0  binary_crossentropy\n",
              "0      1             0.983718\n",
              "1      2             0.905509\n",
              "2      3             0.939022\n",
              "3      4             0.933644\n",
              "4      5             0.862003\n",
              "..   ...                  ...\n",
              "663  664             1.726189\n",
              "664  665             1.688992\n",
              "665  666             1.568315\n",
              "666  667             1.544441\n",
              "667  668             1.610515\n",
              "\n",
              "[668 rows x 2 columns]"
            ]
          },
          "metadata": {
            "tags": []
          },
          "execution_count": 64
        }
      ]
    },
    {
      "cell_type": "code",
      "metadata": {
        "id": "yJVdvu45ltFL",
        "colab_type": "code",
        "colab": {
          "base_uri": "https://localhost:8080/",
          "height": 35
        },
        "outputId": "89656876-b9a3-4164-d2ed-dcba44c29790"
      },
      "source": [
        "threshold = 500/668\n",
        "threshold"
      ],
      "execution_count": 65,
      "outputs": [
        {
          "output_type": "execute_result",
          "data": {
            "text/plain": [
              "0.7485029940119761"
            ]
          },
          "metadata": {
            "tags": []
          },
          "execution_count": 65
        }
      ]
    },
    {
      "cell_type": "code",
      "metadata": {
        "id": "4RQT8Mdnlw9u",
        "colab_type": "code",
        "colab": {
          "base_uri": "https://localhost:8080/",
          "height": 35
        },
        "outputId": "46a7abab-c95a-44eb-bbb8-0f96c6c03721"
      },
      "source": [
        "binary_crossentropy_threshold = np.quantile(seqs_ds['binary_crossentropy'], threshold)\n",
        "print(f'binary_crossentropy threshhold:{binary_crossentropy_threshold}')"
      ],
      "execution_count": 66,
      "outputs": [
        {
          "output_type": "stream",
          "text": [
            "binary_crossentropy threshhold:1.1109544224367884\n"
          ],
          "name": "stdout"
        }
      ]
    },
    {
      "cell_type": "code",
      "metadata": {
        "id": "VYoP2-BHl0dS",
        "colab_type": "code",
        "colab": {
          "base_uri": "https://localhost:8080/",
          "height": 433
        },
        "outputId": "e005fbd0-56d1-4ae2-b9f0-0145d966c63a"
      },
      "source": [
        "seqs_ds['binary_crossentropy_Outlier'] = 0\n",
        "seqs_ds.loc[seqs_ds['binary_crossentropy'] > binary_crossentropy_threshold, 'binary_crossentropy_Outlier'] = 1\n",
        "print(f\"Num of binary_crossentropy outlier:{seqs_ds['binary_crossentropy_Outlier'].sum()}\")\n",
        "\n",
        "seqs_ds[seqs_ds['binary_crossentropy_Outlier']==1]"
      ],
      "execution_count": 67,
      "outputs": [
        {
          "output_type": "stream",
          "text": [
            "Num of binary_crossentropy outlier:168\n"
          ],
          "name": "stdout"
        },
        {
          "output_type": "execute_result",
          "data": {
            "text/html": [
              "<div>\n",
              "<style scoped>\n",
              "    .dataframe tbody tr th:only-of-type {\n",
              "        vertical-align: middle;\n",
              "    }\n",
              "\n",
              "    .dataframe tbody tr th {\n",
              "        vertical-align: top;\n",
              "    }\n",
              "\n",
              "    .dataframe thead th {\n",
              "        text-align: right;\n",
              "    }\n",
              "</style>\n",
              "<table border=\"1\" class=\"dataframe\">\n",
              "  <thead>\n",
              "    <tr style=\"text-align: right;\">\n",
              "      <th></th>\n",
              "      <th>0</th>\n",
              "      <th>binary_crossentropy</th>\n",
              "      <th>binary_crossentropy_Outlier</th>\n",
              "    </tr>\n",
              "  </thead>\n",
              "  <tbody>\n",
              "    <tr>\n",
              "      <th>500</th>\n",
              "      <td>501</td>\n",
              "      <td>1.657972</td>\n",
              "      <td>1</td>\n",
              "    </tr>\n",
              "    <tr>\n",
              "      <th>501</th>\n",
              "      <td>502</td>\n",
              "      <td>1.663194</td>\n",
              "      <td>1</td>\n",
              "    </tr>\n",
              "    <tr>\n",
              "      <th>502</th>\n",
              "      <td>503</td>\n",
              "      <td>1.653664</td>\n",
              "      <td>1</td>\n",
              "    </tr>\n",
              "    <tr>\n",
              "      <th>503</th>\n",
              "      <td>504</td>\n",
              "      <td>1.502996</td>\n",
              "      <td>1</td>\n",
              "    </tr>\n",
              "    <tr>\n",
              "      <th>504</th>\n",
              "      <td>505</td>\n",
              "      <td>1.600064</td>\n",
              "      <td>1</td>\n",
              "    </tr>\n",
              "    <tr>\n",
              "      <th>...</th>\n",
              "      <td>...</td>\n",
              "      <td>...</td>\n",
              "      <td>...</td>\n",
              "    </tr>\n",
              "    <tr>\n",
              "      <th>663</th>\n",
              "      <td>664</td>\n",
              "      <td>1.726189</td>\n",
              "      <td>1</td>\n",
              "    </tr>\n",
              "    <tr>\n",
              "      <th>664</th>\n",
              "      <td>665</td>\n",
              "      <td>1.688992</td>\n",
              "      <td>1</td>\n",
              "    </tr>\n",
              "    <tr>\n",
              "      <th>665</th>\n",
              "      <td>666</td>\n",
              "      <td>1.568315</td>\n",
              "      <td>1</td>\n",
              "    </tr>\n",
              "    <tr>\n",
              "      <th>666</th>\n",
              "      <td>667</td>\n",
              "      <td>1.544441</td>\n",
              "      <td>1</td>\n",
              "    </tr>\n",
              "    <tr>\n",
              "      <th>667</th>\n",
              "      <td>668</td>\n",
              "      <td>1.610515</td>\n",
              "      <td>1</td>\n",
              "    </tr>\n",
              "  </tbody>\n",
              "</table>\n",
              "<p>168 rows × 3 columns</p>\n",
              "</div>"
            ],
            "text/plain": [
              "       0  binary_crossentropy  binary_crossentropy_Outlier\n",
              "500  501             1.657972                            1\n",
              "501  502             1.663194                            1\n",
              "502  503             1.653664                            1\n",
              "503  504             1.502996                            1\n",
              "504  505             1.600064                            1\n",
              "..   ...                  ...                          ...\n",
              "663  664             1.726189                            1\n",
              "664  665             1.688992                            1\n",
              "665  666             1.568315                            1\n",
              "666  667             1.544441                            1\n",
              "667  668             1.610515                            1\n",
              "\n",
              "[168 rows x 3 columns]"
            ]
          },
          "metadata": {
            "tags": []
          },
          "execution_count": 67
        }
      ]
    },
    {
      "cell_type": "code",
      "metadata": {
        "id": "zINDsoU48RZd",
        "colab_type": "code",
        "colab": {
          "base_uri": "https://localhost:8080/",
          "height": 35
        },
        "outputId": "da7eb073-65cb-46e9-c96a-6b3637a46e36"
      },
      "source": [
        "anomaly_data_detection_acc = len(seqs_ds[seqs_ds['binary_crossentropy_Outlier']==1])/168\n",
        "print(anomaly_data_detection_acc)"
      ],
      "execution_count": 72,
      "outputs": [
        {
          "output_type": "stream",
          "text": [
            "1.0\n"
          ],
          "name": "stdout"
        }
      ]
    }
  ]
}